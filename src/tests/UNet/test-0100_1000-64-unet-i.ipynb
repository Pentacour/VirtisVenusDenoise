{
 "cells": [
  {
   "cell_type": "code",
   "execution_count": 1,
   "id": "517443e0",
   "metadata": {},
   "outputs": [],
   "source": [
    "##############################################################################################################\n",
    "# DESCRIPTION: Carga un modelo.\n",
    "#              \n",
    "# RESULTS:     VI0342_04_00noisy_idx014 es un ejemplo de imagen que puntúa bien pero no.\n",
    "#              \n",
    "##############################################################################################################"
   ]
  },
  {
   "cell_type": "code",
   "execution_count": 2,
   "id": "e744b44a",
   "metadata": {},
   "outputs": [],
   "source": [
    "######################\n",
    "# CONFIG & HYPERPARAMS\n",
    "######################\n",
    "import os, sys\n",
    "\n",
    "IMG_WIDTH = 64\n",
    "IMG_HEIGHT = 64\n",
    "\n",
    "IMG_CASE = str(IMG_WIDTH) +  \"/0100_1000\"\n",
    "SAVED_MODEL = \"0100_1000-64-unet-i\"\n",
    "\n",
    "class RadianceLimits:\n",
    "    pass\n",
    "radiance_limits = RadianceLimits()\n",
    "radiance_limits.noisy_min = 0\n",
    "radiance_limits.noisy_max = 0.0898\n",
    "radiance_limits.nitid_min = 0\n",
    "radiance_limits.nitid_max = 0.3248"
   ]
  },
  {
   "cell_type": "code",
   "execution_count": 3,
   "id": "1eb59e19",
   "metadata": {},
   "outputs": [],
   "source": [
    "##################\n",
    "# PATHS\n",
    "##################\n",
    "\n",
    "IMG_PATH = os.path.abspath(os.path.join('../../../dataset/cases/', IMG_CASE))\n",
    "IMG_PATH_VALID = os.path.join( IMG_PATH , 'validation')\n",
    "IMG_PATH_TEST = IMG_PATH + \"/test/\"\n",
    "IMG_PATH_TRAIN = IMG_PATH\n",
    "\n",
    "DEST_TESTS = os.path.abspath(os.path.join('../../../out_tests/', SAVED_MODEL))"
   ]
  },
  {
   "cell_type": "code",
   "execution_count": 4,
   "id": "1634ee60",
   "metadata": {},
   "outputs": [],
   "source": [
    "##################\n",
    "# IMPORTS\n",
    "##################\n",
    "\n",
    "import tensorflow as tf\n",
    "from tensorflow.compat.v1 import InteractiveSession\n",
    "\n",
    "config = tf.compat.v1.ConfigProto()\n",
    "config.gpu_options.allow_growth = True\n",
    "session = InteractiveSession(config=config)\n",
    "\n",
    "import numpy as np\n",
    "import tensorflow \n",
    "from numpy.random import seed\n",
    "seed(1)\n",
    "tensorflow.random.set_seed(2)\n",
    "import os, sys\n",
    "module_path = os.path.abspath(os.path.join('../../support/'))\n",
    "if module_path not in sys.path:\n",
    "    sys.path.append(module_path)\n",
    "\n",
    "import DatasetUtilsTifF as dsutils\n",
    "import ReportsK as reports\n",
    "import keras.models"
   ]
  },
  {
   "cell_type": "code",
   "execution_count": 5,
   "id": "7cf11c8a",
   "metadata": {},
   "outputs": [
    {
     "name": "stdout",
     "output_type": "stream",
     "text": [
      "Read dataset. Path: D:\\UNIR\\TFM\\VenusDenoise\\dataset\\cases\\64\\0100_1000\n",
      "Noisy files:9696\n",
      "Nitid files:9696\n",
      "Read dataset. Path: D:\\UNIR\\TFM\\VenusDenoise\\dataset\\cases\\64\\0100_1000\\validation\n",
      "Noisy files:2368\n",
      "Nitid files:2368\n"
     ]
    }
   ],
   "source": [
    "##################\n",
    "# PREPARE DATA\n",
    "##################\n",
    "\n",
    "train_noisy_files, train_nitid_files, train_noisy, train_nitid \\\n",
    "    = dsutils.readDataset( IMG_PATH_TRAIN, IMG_WIDTH, IMG_HEIGHT, radiance_limits)\n",
    "\n",
    "val_noisy_files, val_nitid_files, val_noisy, val_nitid \\\n",
    "    = dsutils.readDataset( IMG_PATH_VALID, IMG_WIDTH, IMG_HEIGHT, radiance_limits)\n",
    "\n",
    "train_noisy, train_nitid \\\n",
    "    = dsutils.reshapeDataset( train_noisy, train_nitid, IMG_WIDTH, IMG_HEIGHT )\n",
    "\n",
    "val_noisy, val_nitid \\\n",
    "    = dsutils.reshapeDataset( val_noisy, val_nitid, IMG_WIDTH, IMG_HEIGHT )"
   ]
  },
  {
   "cell_type": "code",
   "execution_count": 6,
   "id": "3b75c540",
   "metadata": {},
   "outputs": [],
   "source": [
    "model = keras.models.load_model(os.path.abspath(os.path.join('../../../saves/' + SAVED_MODEL)), compile=False)"
   ]
  },
  {
   "cell_type": "code",
   "execution_count": 7,
   "id": "e495c47b",
   "metadata": {},
   "outputs": [
    {
     "name": "stdout",
     "output_type": "stream",
     "text": [
      "Black image. Cannot calculate accurayNoZeros\n"
     ]
    },
    {
     "ename": "SystemExit",
     "evalue": "-1",
     "output_type": "error",
     "traceback": [
      "An exception has occurred, use %tb to see the full traceback.\n",
      "\u001b[1;31mSystemExit\u001b[0m\u001b[1;31m:\u001b[0m -1\n"
     ]
    },
    {
     "name": "stderr",
     "output_type": "stream",
     "text": [
      "C:\\Users\\Ramon\\anaconda3\\envs\\tensor_flow_sklearn\\lib\\site-packages\\IPython\\core\\interactiveshell.py:3405: UserWarning: To exit: use 'exit', 'quit', or Ctrl-D.\n",
      "  warn(\"To exit: use 'exit', 'quit', or Ctrl-D.\", stacklevel=1)\n"
     ]
    }
   ],
   "source": [
    "##################\n",
    "# PREDICTIONS\n",
    "##################\n",
    "ACCURACY_THRESHOLD = 0.01\n",
    "predictions_metrics, predictions_headers \\\n",
    "    = reports.calcPredictionMetrics( model, val_noisy, val_nitid, ACCURACY_THRESHOLD, \\\n",
    "                                    save_pred = True, save_path = DEST_TESTS, \\\n",
    "                                    noisy_files = val_noisy_files, nitid_files = val_nitid_files, \\\n",
    "                                    max_nitid= radiance_limits.nitid_max  )"
   ]
  },
  {
   "cell_type": "code",
   "execution_count": null,
   "id": "0a58ff80",
   "metadata": {},
   "outputs": [],
   "source": [
    "reports.saveMetrics( DEST_TESTS, SAVED_MODEL, predictions_headers, predictions_metrics )\n",
    "reports.saveScores( DEST_TESTS, SAVED_MODEL, predictions_metrics )"
   ]
  },
  {
   "cell_type": "code",
   "execution_count": null,
   "id": "bb7dbc3c",
   "metadata": {},
   "outputs": [],
   "source": [
    "test_noisy_files, test_nitid_files, test_noisy, test_nitid \\\n",
    "    = dsutils.readDataset( IMG_PATH_TEST, IMG_WIDTH, IMG_HEIGHT, radiance_limits)\n",
    "\n",
    "test_noisy, test_nitid \\\n",
    "    = dsutils.reshapeDataset( test_noisy, test_nitid, IMG_WIDTH, IMG_HEIGHT )\n",
    "\n",
    "test_indexes = np.arange(0,test_noisy.shape[0])\n",
    "\n",
    "reports.predictByIndexes( model, test_noisy, test_nitid, test_noisy_files, test_nitid_files, \\\n",
    "                        test_indexes, ACCURACY_THRESHOLD )"
   ]
  },
  {
   "cell_type": "code",
   "execution_count": null,
   "id": "c00b5a95",
   "metadata": {},
   "outputs": [],
   "source": [
    "test_indexes = np.array([2])\n",
    "reports.predictByIndexes( model, val_noisy, val_nitid, val_noisy_files, val_nitid_files, \\\n",
    "                        test_indexes, ACCURACY_THRESHOLD, \\\n",
    "                        save_pred = True, save_folder_name = DEST_TESTS )"
   ]
  }
 ],
 "metadata": {
  "kernelspec": {
   "display_name": "Python 3 (ipykernel)",
   "language": "python",
   "name": "python3"
  },
  "language_info": {
   "codemirror_mode": {
    "name": "ipython",
    "version": 3
   },
   "file_extension": ".py",
   "mimetype": "text/x-python",
   "name": "python",
   "nbconvert_exporter": "python",
   "pygments_lexer": "ipython3",
   "version": "3.9.12"
  }
 },
 "nbformat": 4,
 "nbformat_minor": 5
}
