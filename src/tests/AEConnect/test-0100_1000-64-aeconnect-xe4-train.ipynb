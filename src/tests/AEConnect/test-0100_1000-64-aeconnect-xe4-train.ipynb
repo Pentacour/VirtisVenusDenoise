{
 "cells": [
  {
   "cell_type": "code",
   "execution_count": 1,
   "id": "517443e0",
   "metadata": {},
   "outputs": [],
   "source": [
    "##############################################################################################################\n",
    "# DESCRIPTION: \n",
    "#              \n",
    "# RESULTS:     \n",
    "#              \n",
    "##############################################################################################################"
   ]
  },
  {
   "cell_type": "code",
   "execution_count": 2,
   "id": "e744b44a",
   "metadata": {},
   "outputs": [],
   "source": [
    "######################\n",
    "# CONFIG & HYPERPARAMS\n",
    "######################\n",
    "import os, sys\n",
    "\n",
    "IMG_WIDTH = 64\n",
    "IMG_HEIGHT = 64\n",
    "\n",
    "IMG_CASE = str(IMG_WIDTH) +  \"/0100_1000\"\n",
    "SAVED_MODEL = \"0100_1000-64-aeconnect-xe4\"\n",
    "\n",
    "class RadianceLimits:\n",
    "    pass\n",
    "radiance_limits = RadianceLimits()\n",
    "radiance_limits.noisy_min = 0\n",
    "radiance_limits.noisy_max = 0.0898\n",
    "radiance_limits.nitid_min = 0\n",
    "radiance_limits.nitid_max = 0.3248"
   ]
  },
  {
   "cell_type": "code",
   "execution_count": 3,
   "id": "1eb59e19",
   "metadata": {},
   "outputs": [],
   "source": [
    "##################\n",
    "# PATHS\n",
    "##################\n",
    "\n",
    "IMG_PATH = os.path.abspath(os.path.join('../../../dataset/cases/', IMG_CASE))\n",
    "IMG_PATH_VALID = os.path.join( IMG_PATH , 'validation')\n",
    "IMG_PATH_TEST = IMG_PATH + \"/test/\"\n",
    "IMG_PATH_TRAIN = IMG_PATH\n",
    "\n",
    "DEST_TESTS = os.path.abspath(os.path.join('../../../out_tests/', SAVED_MODEL + \"_train\" ))"
   ]
  },
  {
   "cell_type": "code",
   "execution_count": 4,
   "id": "1634ee60",
   "metadata": {},
   "outputs": [],
   "source": [
    "##################\n",
    "# IMPORTS\n",
    "##################\n",
    "\n",
    "import tensorflow as tf\n",
    "from tensorflow.compat.v1 import InteractiveSession\n",
    "\n",
    "config = tf.compat.v1.ConfigProto()\n",
    "config.gpu_options.allow_growth = True\n",
    "session = InteractiveSession(config=config)\n",
    "\n",
    "import numpy as np\n",
    "import tensorflow \n",
    "from numpy.random import seed\n",
    "seed(1)\n",
    "tensorflow.random.set_seed(2)\n",
    "import os, sys\n",
    "module_path = os.path.abspath(os.path.join('../../support/'))\n",
    "if module_path not in sys.path:\n",
    "    sys.path.append(module_path)\n",
    "\n",
    "import DatasetUtilsTifF as dsutils\n",
    "import ReportsK as reports\n",
    "import keras.models"
   ]
  },
  {
   "cell_type": "code",
   "execution_count": 5,
   "id": "7cf11c8a",
   "metadata": {},
   "outputs": [
    {
     "name": "stdout",
     "output_type": "stream",
     "text": [
      "Read dataset. Path: D:\\UNIR\\TFM\\VenusDenoise\\dataset\\cases\\64\\0100_1000\n",
      "Noisy files:8738\n",
      "Nitid files:8738\n"
     ]
    }
   ],
   "source": [
    "##################\n",
    "# PREPARE DATA\n",
    "##################\n",
    "\n",
    "train_noisy_files, train_nitid_files, train_noisy, train_nitid \\\n",
    "    = dsutils.readDataset( IMG_PATH_TRAIN, IMG_WIDTH, IMG_HEIGHT, radiance_limits)\n",
    "\n",
    "#val_noisy_files, val_nitid_files, val_noisy, val_nitid \\\n",
    "#    = dsutils.readDataset( IMG_PATH_VALID, IMG_WIDTH, IMG_HEIGHT, radiance_limits)\n",
    "\n",
    "train_noisy, train_nitid \\\n",
    "    = dsutils.reshapeDataset( train_noisy, train_nitid, IMG_WIDTH, IMG_HEIGHT )\n",
    "\n",
    "#val_noisy, val_nitid \\\n",
    " #   = dsutils.reshapeDataset( val_noisy, val_nitid, IMG_WIDTH, IMG_HEIGHT )"
   ]
  },
  {
   "cell_type": "code",
   "execution_count": 6,
   "id": "3b75c540",
   "metadata": {},
   "outputs": [],
   "source": [
    "model = keras.models.load_model(os.path.abspath(os.path.join('../../../saves/' + SAVED_MODEL)), compile=False)"
   ]
  },
  {
   "cell_type": "code",
   "execution_count": 7,
   "id": "e495c47b",
   "metadata": {},
   "outputs": [
    {
     "name": "stdout",
     "output_type": "stream",
     "text": [
      "Black image found\n",
      "Black image found\n",
      "Black image found\n",
      "Black image found\n",
      "Black image found\n",
      "Black image found\n",
      "Black image found\n",
      "Black image found\n",
      "Black image found\n",
      "Black image found\n",
      "Images count =8738\n",
      "Best RMSENZ  =8440 (0.97)\n",
      "Best MAENZ   =8450 (0.97)\n",
      "Best PSNR    =8440 (0.97)\n",
      "Best Accuracy=8258 (0.95)\n",
      "RMSE-NZ  Pred=0.0147  Noisy=0.0998\n",
      "MAE-NZ   Pred=0.0109  Noisy=0.0946\n",
      "PSNR     Pred=24.4 dB Noisy=9.8 dB\n",
      "Accuracy Pred=0.58    Noisy=0.14\n",
      "SSM      Pred=0.96    Noisy=0.71\n",
      "HOG MSE  Pred=0.07    Noisy=0.11\n"
     ]
    }
   ],
   "source": [
    "##################\n",
    "# PREDICTIONS\n",
    "##################\n",
    "ACCURACY_THRESHOLD = 0.01\n",
    "predictions_metrics, predictions_headers \\\n",
    "    = reports.calcPredictionMetrics( model, train_noisy, train_nitid, ACCURACY_THRESHOLD, \\\n",
    "                                    save_pred = False, save_path = DEST_TESTS, \\\n",
    "                                    noisy_files = train_noisy_files, nitid_files = train_nitid_files, \\\n",
    "                                    max_nitid= radiance_limits.nitid_max  )"
   ]
  },
  {
   "cell_type": "code",
   "execution_count": 8,
   "id": "0a58ff80",
   "metadata": {},
   "outputs": [],
   "source": [
    "reports.saveMetrics( DEST_TESTS, SAVED_MODEL, predictions_headers, predictions_metrics )"
   ]
  }
 ],
 "metadata": {
  "kernelspec": {
   "display_name": "Python 3 (ipykernel)",
   "language": "python",
   "name": "python3"
  },
  "language_info": {
   "codemirror_mode": {
    "name": "ipython",
    "version": 3
   },
   "file_extension": ".py",
   "mimetype": "text/x-python",
   "name": "python",
   "nbconvert_exporter": "python",
   "pygments_lexer": "ipython3",
   "version": "3.9.12"
  }
 },
 "nbformat": 4,
 "nbformat_minor": 5
}
