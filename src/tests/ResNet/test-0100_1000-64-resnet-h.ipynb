{
 "cells": [
  {
   "cell_type": "code",
   "execution_count": 1,
   "id": "517443e0",
   "metadata": {},
   "outputs": [],
   "source": [
    "##############################################################################################################\n",
    "# DESCRIPTION: \n",
    "#              \n",
    "# RESULTS:     \n",
    "#              \n",
    "##############################################################################################################"
   ]
  },
  {
   "cell_type": "code",
   "execution_count": 2,
   "id": "e744b44a",
   "metadata": {},
   "outputs": [],
   "source": [
    "######################\n",
    "# CONFIG & HYPERPARAMS\n",
    "######################\n",
    "import os, sys\n",
    "\n",
    "IMG_WIDTH = 64\n",
    "IMG_HEIGHT = 64\n",
    "\n",
    "IMG_CASE = str(IMG_WIDTH) +  \"/0100_1000\"\n",
    "SAVED_MODEL = \"0100_1000-64-resnet-h\"\n",
    "\n",
    "class RadianceLimits:\n",
    "    pass\n",
    "radiance_limits = RadianceLimits()\n",
    "radiance_limits.noisy_min = 0\n",
    "radiance_limits.noisy_max = 0.0898\n",
    "radiance_limits.nitid_min = 0\n",
    "radiance_limits.nitid_max = 0.3248"
   ]
  },
  {
   "cell_type": "code",
   "execution_count": 3,
   "id": "1eb59e19",
   "metadata": {},
   "outputs": [],
   "source": [
    "##################\n",
    "# PATHS\n",
    "##################\n",
    "\n",
    "IMG_PATH = os.path.abspath(os.path.join('../../../dataset/cases/', IMG_CASE))\n",
    "IMG_PATH_VALID = os.path.join( IMG_PATH , 'validation')\n",
    "IMG_PATH_TEST = IMG_PATH + \"/test/\"\n",
    "IMG_PATH_TRAIN = IMG_PATH\n",
    "\n",
    "DEST_TESTS = os.path.abspath(os.path.join('../../../out_tests/', SAVED_MODEL))"
   ]
  },
  {
   "cell_type": "code",
   "execution_count": 4,
   "id": "1634ee60",
   "metadata": {},
   "outputs": [],
   "source": [
    "##################\n",
    "# IMPORTS\n",
    "##################\n",
    "\n",
    "import tensorflow as tf\n",
    "from tensorflow.compat.v1 import InteractiveSession\n",
    "\n",
    "config = tf.compat.v1.ConfigProto()\n",
    "config.gpu_options.allow_growth = True\n",
    "session = InteractiveSession(config=config)\n",
    "\n",
    "import numpy as np\n",
    "import tensorflow \n",
    "from numpy.random import seed\n",
    "seed(1)\n",
    "tensorflow.random.set_seed(2)\n",
    "import os, sys\n",
    "module_path = os.path.abspath(os.path.join('../../support/'))\n",
    "if module_path not in sys.path:\n",
    "    sys.path.append(module_path)\n",
    "\n",
    "import DatasetUtilsTifF as dsutils\n",
    "import ReportsK as reports\n",
    "import keras.models"
   ]
  },
  {
   "cell_type": "code",
   "execution_count": 5,
   "id": "7cf11c8a",
   "metadata": {},
   "outputs": [
    {
     "name": "stdout",
     "output_type": "stream",
     "text": [
      "Read dataset. Path: C:\\Projects\\VenusDenoise\\dataset\\cases\\64\\0100_1000\n",
      "Noisy files:8738\n",
      "Nitid files:8738\n",
      "Read dataset. Path: C:\\Projects\\VenusDenoise\\dataset\\cases\\64\\0100_1000\\validation\n",
      "Noisy files:2208\n",
      "Nitid files:2208\n"
     ]
    }
   ],
   "source": [
    "##################\n",
    "# PREPARE DATA\n",
    "##################\n",
    "\n",
    "train_noisy_files, train_nitid_files, train_noisy, train_nitid \\\n",
    "    = dsutils.readDataset( IMG_PATH_TRAIN, IMG_WIDTH, IMG_HEIGHT, radiance_limits)\n",
    "\n",
    "val_noisy_files, val_nitid_files, val_noisy, val_nitid \\\n",
    "    = dsutils.readDataset( IMG_PATH_VALID, IMG_WIDTH, IMG_HEIGHT, radiance_limits)\n",
    "\n",
    "train_noisy, train_nitid \\\n",
    "    = dsutils.reshapeDataset( train_noisy, train_nitid, IMG_WIDTH, IMG_HEIGHT )\n",
    "\n",
    "val_noisy, val_nitid \\\n",
    "    = dsutils.reshapeDataset( val_noisy, val_nitid, IMG_WIDTH, IMG_HEIGHT )"
   ]
  },
  {
   "cell_type": "code",
   "execution_count": 6,
   "id": "3b75c540",
   "metadata": {},
   "outputs": [],
   "source": [
    "model = keras.models.load_model(os.path.abspath(os.path.join('../../../saves/' + SAVED_MODEL)), compile=False)"
   ]
  },
  {
   "cell_type": "code",
   "execution_count": 7,
   "id": "e495c47b",
   "metadata": {},
   "outputs": [
    {
     "name": "stdout",
     "output_type": "stream",
     "text": [
      "(64, 64, 64)\n",
      "(4096,)\n"
     ]
    },
    {
     "ename": "ValueError",
     "evalue": "Input images must have the same dimensions.",
     "output_type": "error",
     "traceback": [
      "\u001b[1;31m---------------------------------------------------------------------------\u001b[0m",
      "\u001b[1;31mValueError\u001b[0m                                Traceback (most recent call last)",
      "Input \u001b[1;32mIn [7]\u001b[0m, in \u001b[0;36m<cell line: 6>\u001b[1;34m()\u001b[0m\n\u001b[0;32m      1\u001b[0m \u001b[38;5;66;03m##################\u001b[39;00m\n\u001b[0;32m      2\u001b[0m \u001b[38;5;66;03m# PREDICTIONS\u001b[39;00m\n\u001b[0;32m      3\u001b[0m \u001b[38;5;66;03m##################\u001b[39;00m\n\u001b[0;32m      4\u001b[0m ACCURACY_THRESHOLD \u001b[38;5;241m=\u001b[39m \u001b[38;5;241m0.01\u001b[39m\n\u001b[0;32m      5\u001b[0m predictions_metrics, predictions_headers \\\n\u001b[1;32m----> 6\u001b[0m     \u001b[38;5;241m=\u001b[39m \u001b[43mreports\u001b[49m\u001b[38;5;241;43m.\u001b[39;49m\u001b[43mcalcPredictionMetrics\u001b[49m\u001b[43m(\u001b[49m\u001b[43m \u001b[49m\u001b[43mmodel\u001b[49m\u001b[43m,\u001b[49m\u001b[43m \u001b[49m\u001b[43mval_noisy\u001b[49m\u001b[43m,\u001b[49m\u001b[43m \u001b[49m\u001b[43mval_nitid\u001b[49m\u001b[43m,\u001b[49m\u001b[43m \u001b[49m\u001b[43mACCURACY_THRESHOLD\u001b[49m\u001b[43m,\u001b[49m\u001b[43m \u001b[49m\u001b[43m\\\u001b[49m\n\u001b[0;32m      7\u001b[0m \u001b[43m                                    \u001b[49m\u001b[43msave_pred\u001b[49m\u001b[43m \u001b[49m\u001b[38;5;241;43m=\u001b[39;49m\u001b[43m \u001b[49m\u001b[38;5;28;43;01mTrue\u001b[39;49;00m\u001b[43m,\u001b[49m\u001b[43m \u001b[49m\u001b[43msave_path\u001b[49m\u001b[43m \u001b[49m\u001b[38;5;241;43m=\u001b[39;49m\u001b[43m \u001b[49m\u001b[43mDEST_TESTS\u001b[49m\u001b[43m,\u001b[49m\u001b[43m \u001b[49m\u001b[43m\\\u001b[49m\n\u001b[0;32m      8\u001b[0m \u001b[43m                                    \u001b[49m\u001b[43mnoisy_files\u001b[49m\u001b[43m \u001b[49m\u001b[38;5;241;43m=\u001b[39;49m\u001b[43m \u001b[49m\u001b[43mval_noisy_files\u001b[49m\u001b[43m,\u001b[49m\u001b[43m \u001b[49m\u001b[43mnitid_files\u001b[49m\u001b[43m \u001b[49m\u001b[38;5;241;43m=\u001b[39;49m\u001b[43m \u001b[49m\u001b[43mval_nitid_files\u001b[49m\u001b[43m,\u001b[49m\u001b[43m \u001b[49m\u001b[43m\\\u001b[49m\n\u001b[0;32m      9\u001b[0m \u001b[43m                                    \u001b[49m\u001b[43mmax_nitid\u001b[49m\u001b[38;5;241;43m=\u001b[39;49m\u001b[43m \u001b[49m\u001b[43mradiance_limits\u001b[49m\u001b[38;5;241;43m.\u001b[39;49m\u001b[43mnitid_max\u001b[49m\u001b[43m  \u001b[49m\u001b[43m)\u001b[49m\n",
      "File \u001b[1;32mC:\\Projects\\VenusDenoise\\src\\support\\ReportsK.py:584\u001b[0m, in \u001b[0;36mcalcPredictionMetrics\u001b[1;34m(model, noisy_images, nitid_images, accuracy_threshold, save_pred, save_path, noisy_files, nitid_files, max_nitid)\u001b[0m\n\u001b[0;32m    582\u001b[0m \u001b[38;5;28mprint\u001b[39m(predictions[i]\u001b[38;5;241m.\u001b[39mshape)\n\u001b[0;32m    583\u001b[0m \u001b[38;5;28mprint\u001b[39m(nitid_images[i]\u001b[38;5;241m.\u001b[39mflatten()\u001b[38;5;241m.\u001b[39mshape)\n\u001b[1;32m--> 584\u001b[0m ssm_predi_current \u001b[38;5;241m=\u001b[39m \u001b[43mstructural_similarity\u001b[49m\u001b[43m(\u001b[49m\u001b[43m \u001b[49m\u001b[43mpredictions\u001b[49m\u001b[43m[\u001b[49m\u001b[43mi\u001b[49m\u001b[43m]\u001b[49m\u001b[38;5;241;43m.\u001b[39;49m\u001b[43mflatten\u001b[49m\u001b[43m(\u001b[49m\u001b[43m)\u001b[49m\u001b[43m,\u001b[49m\u001b[43m \u001b[49m\u001b[43mnitid_images\u001b[49m\u001b[43m[\u001b[49m\u001b[43mi\u001b[49m\u001b[43m]\u001b[49m\u001b[38;5;241;43m.\u001b[39;49m\u001b[43mflatten\u001b[49m\u001b[43m(\u001b[49m\u001b[43m)\u001b[49m\u001b[43m,\u001b[49m\u001b[43m \u001b[49m\u001b[43mdata_range\u001b[49m\u001b[43m \u001b[49m\u001b[38;5;241;43m=\u001b[39;49m\u001b[43m \u001b[49m\u001b[38;5;241;43m1.0\u001b[39;49m\u001b[43m \u001b[49m\u001b[43m)\u001b[49m\n\u001b[0;32m    585\u001b[0m ssm_noisy_current \u001b[38;5;241m=\u001b[39m structural_similarity( predictions[i]\u001b[38;5;241m.\u001b[39mflatten(), noisy_images[i]\u001b[38;5;241m.\u001b[39mflatten(), data_range \u001b[38;5;241m=\u001b[39m \u001b[38;5;241m1.0\u001b[39m )\n\u001b[0;32m    587\u001b[0m ssm_predi \u001b[38;5;241m+\u001b[39m\u001b[38;5;241m=\u001b[39m ssm_predi_current\n",
      "File \u001b[1;32m~\\Anaconda3\\envs\\tf-gpu\\lib\\site-packages\\skimage\\_shared\\utils.py:348\u001b[0m, in \u001b[0;36mdeprecate_multichannel_kwarg.__call__.<locals>.fixed_func\u001b[1;34m(*args, **kwargs)\u001b[0m\n\u001b[0;32m    345\u001b[0m     kwargs[\u001b[38;5;124m'\u001b[39m\u001b[38;5;124mchannel_axis\u001b[39m\u001b[38;5;124m'\u001b[39m] \u001b[38;5;241m=\u001b[39m convert[kwargs\u001b[38;5;241m.\u001b[39mpop(\u001b[38;5;124m'\u001b[39m\u001b[38;5;124mmultichannel\u001b[39m\u001b[38;5;124m'\u001b[39m)]\n\u001b[0;32m    347\u001b[0m \u001b[38;5;66;03m# Call the function with the fixed arguments\u001b[39;00m\n\u001b[1;32m--> 348\u001b[0m \u001b[38;5;28;01mreturn\u001b[39;00m func(\u001b[38;5;241m*\u001b[39margs, \u001b[38;5;241m*\u001b[39m\u001b[38;5;241m*\u001b[39mkwargs)\n",
      "File \u001b[1;32m~\\Anaconda3\\envs\\tf-gpu\\lib\\site-packages\\skimage\\metrics\\_structural_similarity.py:101\u001b[0m, in \u001b[0;36mstructural_similarity\u001b[1;34m(im1, im2, win_size, gradient, data_range, channel_axis, multichannel, gaussian_weights, full, **kwargs)\u001b[0m\n\u001b[0;32m     15\u001b[0m \u001b[38;5;129m@utils\u001b[39m\u001b[38;5;241m.\u001b[39mdeprecate_multichannel_kwarg()\n\u001b[0;32m     16\u001b[0m \u001b[38;5;28;01mdef\u001b[39;00m \u001b[38;5;21mstructural_similarity\u001b[39m(im1, im2,\n\u001b[0;32m     17\u001b[0m                           \u001b[38;5;241m*\u001b[39m,\n\u001b[0;32m     18\u001b[0m                           win_size\u001b[38;5;241m=\u001b[39m\u001b[38;5;28;01mNone\u001b[39;00m, gradient\u001b[38;5;241m=\u001b[39m\u001b[38;5;28;01mFalse\u001b[39;00m, data_range\u001b[38;5;241m=\u001b[39m\u001b[38;5;28;01mNone\u001b[39;00m,\n\u001b[0;32m     19\u001b[0m                           channel_axis\u001b[38;5;241m=\u001b[39m\u001b[38;5;28;01mNone\u001b[39;00m, multichannel\u001b[38;5;241m=\u001b[39m\u001b[38;5;28;01mFalse\u001b[39;00m,\n\u001b[0;32m     20\u001b[0m                           gaussian_weights\u001b[38;5;241m=\u001b[39m\u001b[38;5;28;01mFalse\u001b[39;00m, full\u001b[38;5;241m=\u001b[39m\u001b[38;5;28;01mFalse\u001b[39;00m, \u001b[38;5;241m*\u001b[39m\u001b[38;5;241m*\u001b[39mkwargs):\n\u001b[0;32m     21\u001b[0m     \u001b[38;5;124;03m\"\"\"\u001b[39;00m\n\u001b[0;32m     22\u001b[0m \u001b[38;5;124;03m    Compute the mean structural similarity index between two images.\u001b[39;00m\n\u001b[0;32m     23\u001b[0m \n\u001b[1;32m   (...)\u001b[0m\n\u001b[0;32m     99\u001b[0m \n\u001b[0;32m    100\u001b[0m \u001b[38;5;124;03m    \"\"\"\u001b[39;00m\n\u001b[1;32m--> 101\u001b[0m     \u001b[43mcheck_shape_equality\u001b[49m\u001b[43m(\u001b[49m\u001b[43mim1\u001b[49m\u001b[43m,\u001b[49m\u001b[43m \u001b[49m\u001b[43mim2\u001b[49m\u001b[43m)\u001b[49m\n\u001b[0;32m    102\u001b[0m     float_type \u001b[38;5;241m=\u001b[39m _supported_float_type(im1\u001b[38;5;241m.\u001b[39mdtype)\n\u001b[0;32m    104\u001b[0m     \u001b[38;5;28;01mif\u001b[39;00m channel_axis \u001b[38;5;129;01mis\u001b[39;00m \u001b[38;5;129;01mnot\u001b[39;00m \u001b[38;5;28;01mNone\u001b[39;00m:\n\u001b[0;32m    105\u001b[0m         \u001b[38;5;66;03m# loop over channels\u001b[39;00m\n",
      "File \u001b[1;32m~\\Anaconda3\\envs\\tf-gpu\\lib\\site-packages\\skimage\\_shared\\utils.py:569\u001b[0m, in \u001b[0;36mcheck_shape_equality\u001b[1;34m(im1, im2)\u001b[0m\n\u001b[0;32m    567\u001b[0m \u001b[38;5;124;03m\"\"\"Raise an error if the shape do not match.\"\"\"\u001b[39;00m\n\u001b[0;32m    568\u001b[0m \u001b[38;5;28;01mif\u001b[39;00m \u001b[38;5;129;01mnot\u001b[39;00m im1\u001b[38;5;241m.\u001b[39mshape \u001b[38;5;241m==\u001b[39m im2\u001b[38;5;241m.\u001b[39mshape:\n\u001b[1;32m--> 569\u001b[0m     \u001b[38;5;28;01mraise\u001b[39;00m \u001b[38;5;167;01mValueError\u001b[39;00m(\u001b[38;5;124m'\u001b[39m\u001b[38;5;124mInput images must have the same dimensions.\u001b[39m\u001b[38;5;124m'\u001b[39m)\n\u001b[0;32m    570\u001b[0m \u001b[38;5;28;01mreturn\u001b[39;00m\n",
      "\u001b[1;31mValueError\u001b[0m: Input images must have the same dimensions."
     ]
    }
   ],
   "source": [
    "##################\n",
    "# PREDICTIONS\n",
    "##################\n",
    "ACCURACY_THRESHOLD = 0.01\n",
    "predictions_metrics, predictions_headers \\\n",
    "    = reports.calcPredictionMetrics( model, val_noisy, val_nitid, ACCURACY_THRESHOLD, \\\n",
    "                                    save_pred = True, save_path = DEST_TESTS, \\\n",
    "                                    noisy_files = val_noisy_files, nitid_files = val_nitid_files, \\\n",
    "                                    max_nitid= radiance_limits.nitid_max  )"
   ]
  },
  {
   "cell_type": "code",
   "execution_count": null,
   "id": "0a58ff80",
   "metadata": {},
   "outputs": [],
   "source": [
    "reports.saveMetrics( DEST_TESTS, SAVED_MODEL, predictions_headers, predictions_metrics )"
   ]
  },
  {
   "cell_type": "code",
   "execution_count": null,
   "id": "bb7dbc3c",
   "metadata": {},
   "outputs": [],
   "source": [
    "test_noisy_files, test_nitid_files, test_noisy, test_nitid \\\n",
    "    = dsutils.readDataset( IMG_PATH_TEST, IMG_WIDTH, IMG_HEIGHT, radiance_limits)\n",
    "\n",
    "test_noisy, test_nitid \\\n",
    "    = dsutils.reshapeDataset( test_noisy, test_nitid, IMG_WIDTH, IMG_HEIGHT )\n",
    "\n",
    "test_indexes = np.arange(0,test_noisy.shape[0])\n",
    "\n",
    "reports.predictByIndexes( model, test_noisy, test_nitid, test_noisy_files, test_nitid_files, \\\n",
    "                        test_indexes, ACCURACY_THRESHOLD )"
   ]
  },
  {
   "cell_type": "code",
   "execution_count": null,
   "id": "c00b5a95",
   "metadata": {},
   "outputs": [],
   "source": [
    "test_indexes = np.array([2])\n",
    "reports.predictByIndexes( model, val_noisy, val_nitid, val_noisy_files, val_nitid_files, \\\n",
    "                        test_indexes, ACCURACY_THRESHOLD, \\\n",
    "                        save_pred = True, save_folder_name = DEST_TESTS )"
   ]
  },
  {
   "cell_type": "code",
   "execution_count": null,
   "id": "5f776e09",
   "metadata": {},
   "outputs": [],
   "source": []
  }
 ],
 "metadata": {
  "kernelspec": {
   "display_name": "Python 3 (ipykernel)",
   "language": "python",
   "name": "python3"
  },
  "language_info": {
   "codemirror_mode": {
    "name": "ipython",
    "version": 3
   },
   "file_extension": ".py",
   "mimetype": "text/x-python",
   "name": "python",
   "nbconvert_exporter": "python",
   "pygments_lexer": "ipython3",
   "version": "3.9.12"
  }
 },
 "nbformat": 4,
 "nbformat_minor": 5
}
