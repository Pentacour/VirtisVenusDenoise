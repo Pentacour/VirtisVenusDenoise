{
 "cells": [
  {
   "cell_type": "code",
   "execution_count": 1,
   "id": "f1420dd8",
   "metadata": {},
   "outputs": [],
   "source": [
    "##############################################################################################################\n",
    "# DESCRIPTION: \n",
    "# RESULTS:     \n",
    "#              \n",
    "##############################################################################################################"
   ]
  },
  {
   "cell_type": "code",
   "execution_count": 2,
   "id": "144dbf0c",
   "metadata": {},
   "outputs": [],
   "source": [
    "######################\n",
    "# CONFIG & HYPERPARAMS\n",
    "######################\n",
    "\n",
    "IMG_PATH = \"C:/TFMDataset/256_0100_1000/work-2-filtered/\"\n",
    "#IMG_PATH = \"D:/UNIR/TFM/Docs/NoiseCorrec/NoiseCorrec_0100_1000/TIFF/work/divided_64x64/filtered/work/\"\n",
    "\n",
    "IMG_PATH_VALID = IMG_PATH + \"validation/\"\n",
    "IMG_PATH_TEST = IMG_PATH + \"test/\"\n",
    "IMG_PATH_TRAIN = IMG_PATH\n",
    "\n",
    "class HyperParams:\n",
    "    pass\n",
    "hyperparams = HyperParams()\n",
    "\n",
    "hyperparams.IMG_WIDTH = 256\n",
    "hyperparams.IMG_HEIGHT = 256\n",
    "hyperparams.EPOCHS = 50\n",
    "hyperparams.BATCH_SIZE = 32\n",
    "\n",
    "PERC_TRAIN = 0.8\n",
    "\n",
    "class RadianceLimits:\n",
    "    pass\n",
    "radiance_limits = RadianceLimits()\n",
    "radiance_limits.noisy_min = 0\n",
    "radiance_limits.noisy_max = 0.0898\n",
    "radiance_limits.nitid_min = 0\n",
    "radiance_limits.nitid_max = 0.3248\n",
    "\n",
    "from tensorflow.keras.optimizers import Adam\n",
    "hyperparams.OPTIMIZER = Adam(0.0005,beta_1=0.9)"
   ]
  },
  {
   "cell_type": "code",
   "execution_count": 3,
   "id": "be827de1",
   "metadata": {},
   "outputs": [],
   "source": [
    "##################\n",
    "# IMPORTS\n",
    "##################\n",
    "\n",
    "import tensorflow as tf\n",
    "config = tf.compat.v1.ConfigProto()\n",
    "config.gpu_options.allow_growth = True\n",
    "sess = tf.compat.v1.Session(config=config)\n",
    "\n",
    "import numpy as np\n",
    "import tensorflow \n",
    "from numpy.random import seed\n",
    "seed(1)\n",
    "tensorflow.random.set_seed(2)\n",
    "import os, sys\n",
    "module_path = os.path.abspath(os.path.join('../../support/'))\n",
    "if module_path not in sys.path:\n",
    "    sys.path.append(module_path)\n",
    "    \n",
    "import DatasetUtilsTifF as dsutils\n",
    "import TrainModel as train\n",
    "import ReportsH as reports"
   ]
  },
  {
   "cell_type": "code",
   "execution_count": 4,
   "id": "a22f1b6e",
   "metadata": {},
   "outputs": [
    {
     "name": "stdout",
     "output_type": "stream",
     "text": [
      "Model: \"model\"\n",
      "__________________________________________________________________________________________________\n",
      "Layer (type)                    Output Shape         Param #     Connected to                     \n",
      "==================================================================================================\n",
      "input_1 (InputLayer)            [(None, 256, 256, 1) 0                                            \n",
      "__________________________________________________________________________________________________\n",
      "conv2d (Conv2D)                 (None, 256, 256, 32) 320         input_1[0][0]                    \n",
      "__________________________________________________________________________________________________\n",
      "leaky_re_lu (LeakyReLU)         (None, 256, 256, 32) 0           conv2d[0][0]                     \n",
      "__________________________________________________________________________________________________\n",
      "conv2d_1 (Conv2D)               (None, 128, 128, 64) 18496       leaky_re_lu[0][0]                \n",
      "__________________________________________________________________________________________________\n",
      "leaky_re_lu_1 (LeakyReLU)       (None, 128, 128, 64) 0           conv2d_1[0][0]                   \n",
      "__________________________________________________________________________________________________\n",
      "conv2d_2 (Conv2D)               (None, 64, 64, 128)  73856       leaky_re_lu_1[0][0]              \n",
      "__________________________________________________________________________________________________\n",
      "leaky_re_lu_2 (LeakyReLU)       (None, 64, 64, 128)  0           conv2d_2[0][0]                   \n",
      "__________________________________________________________________________________________________\n",
      "conv2d_3 (Conv2D)               (None, 32, 32, 256)  295168      leaky_re_lu_2[0][0]              \n",
      "__________________________________________________________________________________________________\n",
      "leaky_re_lu_3 (LeakyReLU)       (None, 32, 32, 256)  0           conv2d_3[0][0]                   \n",
      "__________________________________________________________________________________________________\n",
      "conv2d_4 (Conv2D)               (None, 16, 16, 256)  590080      leaky_re_lu_3[0][0]              \n",
      "__________________________________________________________________________________________________\n",
      "leaky_re_lu_4 (LeakyReLU)       (None, 16, 16, 256)  0           conv2d_4[0][0]                   \n",
      "__________________________________________________________________________________________________\n",
      "conv2d_5 (Conv2D)               (None, 8, 8, 512)    1180160     leaky_re_lu_4[0][0]              \n",
      "__________________________________________________________________________________________________\n",
      "leaky_re_lu_5 (LeakyReLU)       (None, 8, 8, 512)    0           conv2d_5[0][0]                   \n",
      "__________________________________________________________________________________________________\n",
      "conv2d_6 (Conv2D)               (None, 4, 4, 1024)   4719616     leaky_re_lu_5[0][0]              \n",
      "__________________________________________________________________________________________________\n",
      "leaky_re_lu_6 (LeakyReLU)       (None, 4, 4, 1024)   0           conv2d_6[0][0]                   \n",
      "__________________________________________________________________________________________________\n",
      "flatten (Flatten)               (None, 16384)        0           leaky_re_lu_6[0][0]              \n",
      "__________________________________________________________________________________________________\n",
      "dense (Dense)                   (None, 128)          2097280     flatten[0][0]                    \n",
      "__________________________________________________________________________________________________\n",
      "dense_1 (Dense)                 (None, 16384)        2113536     dense[0][0]                      \n",
      "__________________________________________________________________________________________________\n",
      "reshape (Reshape)               (None, 4, 4, 1024)   0           dense_1[0][0]                    \n",
      "__________________________________________________________________________________________________\n",
      "conv2d_transpose (Conv2DTranspo (None, 4, 4, 1024)   9438208     reshape[0][0]                    \n",
      "__________________________________________________________________________________________________\n",
      "leaky_re_lu_7 (LeakyReLU)       (None, 4, 4, 1024)   0           conv2d_transpose[0][0]           \n",
      "__________________________________________________________________________________________________\n",
      "conv2d_transpose_1 (Conv2DTrans (None, 8, 8, 512)    4719104     leaky_re_lu_7[0][0]              \n",
      "__________________________________________________________________________________________________\n",
      "leaky_re_lu_8 (LeakyReLU)       (None, 8, 8, 512)    0           conv2d_transpose_1[0][0]         \n",
      "__________________________________________________________________________________________________\n",
      "conv2d_transpose_2 (Conv2DTrans (None, 16, 16, 256)  1179904     leaky_re_lu_8[0][0]              \n",
      "__________________________________________________________________________________________________\n",
      "add (Add)                       (None, 16, 16, 256)  0           conv2d_4[0][0]                   \n",
      "                                                                 conv2d_transpose_2[0][0]         \n",
      "__________________________________________________________________________________________________\n",
      "leaky_re_lu_9 (LeakyReLU)       (None, 16, 16, 256)  0           add[0][0]                        \n",
      "__________________________________________________________________________________________________\n",
      "batch_normalization (BatchNorma (None, 16, 16, 256)  1024        leaky_re_lu_9[0][0]              \n",
      "__________________________________________________________________________________________________\n",
      "conv2d_transpose_3 (Conv2DTrans (None, 32, 32, 256)  590080      batch_normalization[0][0]        \n",
      "__________________________________________________________________________________________________\n",
      "leaky_re_lu_10 (LeakyReLU)      (None, 32, 32, 256)  0           conv2d_transpose_3[0][0]         \n",
      "__________________________________________________________________________________________________\n",
      "conv2d_transpose_4 (Conv2DTrans (None, 64, 64, 128)  295040      leaky_re_lu_10[0][0]             \n",
      "__________________________________________________________________________________________________\n",
      "add_1 (Add)                     (None, 64, 64, 128)  0           conv2d_2[0][0]                   \n",
      "                                                                 conv2d_transpose_4[0][0]         \n",
      "__________________________________________________________________________________________________\n",
      "leaky_re_lu_11 (LeakyReLU)      (None, 64, 64, 128)  0           add_1[0][0]                      \n",
      "__________________________________________________________________________________________________\n",
      "batch_normalization_1 (BatchNor (None, 64, 64, 128)  512         leaky_re_lu_11[0][0]             \n",
      "__________________________________________________________________________________________________\n",
      "conv2d_transpose_5 (Conv2DTrans (None, 128, 128, 64) 73792       batch_normalization_1[0][0]      \n",
      "__________________________________________________________________________________________________\n",
      "leaky_re_lu_12 (LeakyReLU)      (None, 128, 128, 64) 0           conv2d_transpose_5[0][0]         \n",
      "__________________________________________________________________________________________________\n",
      "conv2d_transpose_6 (Conv2DTrans (None, 256, 256, 32) 18464       leaky_re_lu_12[0][0]             \n",
      "__________________________________________________________________________________________________\n",
      "leaky_re_lu_13 (LeakyReLU)      (None, 256, 256, 32) 0           conv2d_transpose_6[0][0]         \n",
      "__________________________________________________________________________________________________\n",
      "conv2d_transpose_7 (Conv2DTrans (None, 256, 256, 1)  289         leaky_re_lu_13[0][0]             \n",
      "==================================================================================================\n",
      "Total params: 27,404,929\n",
      "Trainable params: 27,404,161\n",
      "Non-trainable params: 768\n",
      "__________________________________________________________________________________________________\n"
     ]
    },
    {
     "data": {
      "text/plain": [
       "{'name': 'Adam',\n",
       " 'learning_rate': 0.0005,\n",
       " 'decay': 0.0,\n",
       " 'beta_1': 0.9,\n",
       " 'beta_2': 0.999,\n",
       " 'epsilon': 1e-07,\n",
       " 'amsgrad': False}"
      ]
     },
     "execution_count": 4,
     "metadata": {},
     "output_type": "execute_result"
    }
   ],
   "source": [
    "##################\n",
    "# MODEL DEFINITION\n",
    "##################\n",
    "\n",
    "import AEConnectionsD as model_factory\n",
    "\n",
    "model = model_factory.buildModel(hyperparams)\n",
    "model.summary()\n",
    "model.optimizer.get_config()"
   ]
  },
  {
   "cell_type": "code",
   "execution_count": 5,
   "id": "0f1de709",
   "metadata": {},
   "outputs": [
    {
     "name": "stdout",
     "output_type": "stream",
     "text": [
      "Read dataset. Path: C:/TFMDataset/256_0100_1000/work-2-filtered/\n",
      "Noisy files:606\n",
      "Nitid files:606\n",
      "Read dataset. Path: C:/TFMDataset/256_0100_1000/work-2-filtered/validation/\n",
      "Noisy files:148\n",
      "Nitid files:148\n"
     ]
    }
   ],
   "source": [
    "##################\n",
    "# PREPARE DATA\n",
    "##################\n",
    "\n",
    "train_noisy_files, train_nitid_files, train_noisy, train_nitid = dsutils.readDataset( IMG_PATH_TRAIN, hyperparams.IMG_WIDTH, hyperparams.IMG_HEIGHT, radiance_limits)\n",
    "val_noisy_files, val_nitid_files, val_noisy, val_nitid = dsutils.readDataset( IMG_PATH_VALID, hyperparams.IMG_WIDTH, hyperparams.IMG_HEIGHT, radiance_limits)\n",
    "\n",
    "train_noisy, train_nitid = dsutils.reshapeDataset( train_noisy, train_nitid, hyperparams.IMG_WIDTH, hyperparams.IMG_HEIGHT )\n",
    "val_noisy, val_nitid = dsutils.reshapeDataset( val_noisy, val_nitid, hyperparams.IMG_WIDTH, hyperparams.IMG_HEIGHT )"
   ]
  },
  {
   "cell_type": "code",
   "execution_count": 6,
   "id": "1df4c982",
   "metadata": {},
   "outputs": [
    {
     "name": "stdout",
     "output_type": "stream",
     "text": [
      "Device mapping:\n",
      "/job:localhost/replica:0/task:0/device:GPU:0 -> device: 0, name: NVIDIA GeForce RTX 3070 Ti, pci bus id: 0000:2b:00.0, compute capability: 8.6\n",
      "\n",
      "Epoch 1/50\n",
      "19/19 [==============================] - 13s 286ms/step - loss: 0.0468 - mean_squared_error: 0.0468 - val_loss: 0.1096 - val_mean_squared_error: 0.1096\n",
      "Epoch 2/50\n",
      "19/19 [==============================] - 2s 123ms/step - loss: 0.0050 - mean_squared_error: 0.0050 - val_loss: 0.0610 - val_mean_squared_error: 0.0610\n",
      "Epoch 3/50\n",
      "19/19 [==============================] - 2s 124ms/step - loss: 0.0029 - mean_squared_error: 0.0029 - val_loss: 0.0377 - val_mean_squared_error: 0.0377\n",
      "Epoch 4/50\n",
      "19/19 [==============================] - 2s 124ms/step - loss: 0.0021 - mean_squared_error: 0.0021 - val_loss: 0.0179 - val_mean_squared_error: 0.0179\n",
      "Epoch 5/50\n",
      "19/19 [==============================] - 2s 124ms/step - loss: 0.0017 - mean_squared_error: 0.0017 - val_loss: 0.0049 - val_mean_squared_error: 0.0049\n",
      "Epoch 6/50\n",
      "19/19 [==============================] - 2s 124ms/step - loss: 0.0017 - mean_squared_error: 0.0017 - val_loss: 0.0032 - val_mean_squared_error: 0.0032\n",
      "Epoch 7/50\n",
      "19/19 [==============================] - 2s 124ms/step - loss: 0.0015 - mean_squared_error: 0.0015 - val_loss: 0.0026 - val_mean_squared_error: 0.0026\n",
      "Epoch 8/50\n",
      "19/19 [==============================] - 2s 124ms/step - loss: 0.0012 - mean_squared_error: 0.0012 - val_loss: 0.0022 - val_mean_squared_error: 0.0022\n",
      "Epoch 9/50\n",
      "19/19 [==============================] - 2s 124ms/step - loss: 0.0012 - mean_squared_error: 0.0012 - val_loss: 0.0028 - val_mean_squared_error: 0.0028\n",
      "Epoch 10/50\n",
      "19/19 [==============================] - 2s 124ms/step - loss: 0.0011 - mean_squared_error: 0.0011 - val_loss: 0.0011 - val_mean_squared_error: 0.0011\n",
      "Epoch 11/50\n",
      "19/19 [==============================] - 2s 124ms/step - loss: 0.0014 - mean_squared_error: 0.0014 - val_loss: 0.0028 - val_mean_squared_error: 0.0028\n",
      "Epoch 12/50\n",
      "19/19 [==============================] - 2s 124ms/step - loss: 0.0011 - mean_squared_error: 0.0011 - val_loss: 0.0021 - val_mean_squared_error: 0.0021\n",
      "Epoch 13/50\n",
      "19/19 [==============================] - 2s 124ms/step - loss: 0.0011 - mean_squared_error: 0.0011 - val_loss: 0.0017 - val_mean_squared_error: 0.0017\n",
      "Epoch 14/50\n",
      "19/19 [==============================] - 2s 124ms/step - loss: 9.5719e-04 - mean_squared_error: 9.5719e-04 - val_loss: 0.0014 - val_mean_squared_error: 0.0014\n",
      "Epoch 15/50\n",
      "19/19 [==============================] - 2s 124ms/step - loss: 0.0011 - mean_squared_error: 0.0011 - val_loss: 8.6372e-04 - val_mean_squared_error: 8.6372e-04\n",
      "Epoch 16/50\n",
      "19/19 [==============================] - 2s 124ms/step - loss: 8.3372e-04 - mean_squared_error: 8.3372e-04 - val_loss: 9.4847e-04 - val_mean_squared_error: 9.4847e-04\n",
      "Epoch 17/50\n",
      "19/19 [==============================] - 2s 124ms/step - loss: 7.4343e-04 - mean_squared_error: 7.4343e-04 - val_loss: 0.0011 - val_mean_squared_error: 0.0011\n",
      "Epoch 18/50\n",
      "19/19 [==============================] - 2s 124ms/step - loss: 0.0011 - mean_squared_error: 0.0011 - val_loss: 0.0022 - val_mean_squared_error: 0.0022\n",
      "Epoch 19/50\n",
      "19/19 [==============================] - 2s 124ms/step - loss: 9.4292e-04 - mean_squared_error: 9.4292e-04 - val_loss: 8.5641e-04 - val_mean_squared_error: 8.5641e-04\n",
      "Epoch 20/50\n",
      "19/19 [==============================] - 2s 124ms/step - loss: 9.6136e-04 - mean_squared_error: 9.6136e-04 - val_loss: 0.0023 - val_mean_squared_error: 0.0023\n",
      "Epoch 21/50\n",
      "19/19 [==============================] - 2s 124ms/step - loss: 8.3905e-04 - mean_squared_error: 8.3905e-04 - val_loss: 0.0013 - val_mean_squared_error: 0.0013\n",
      "Epoch 22/50\n",
      "19/19 [==============================] - 2s 124ms/step - loss: 8.8288e-04 - mean_squared_error: 8.8288e-04 - val_loss: 0.0013 - val_mean_squared_error: 0.0013\n",
      "Epoch 23/50\n",
      "19/19 [==============================] - 2s 124ms/step - loss: 7.8012e-04 - mean_squared_error: 7.8012e-04 - val_loss: 8.6310e-04 - val_mean_squared_error: 8.6310e-04\n",
      "Epoch 24/50\n",
      "19/19 [==============================] - 2s 124ms/step - loss: 7.2355e-04 - mean_squared_error: 7.2355e-04 - val_loss: 0.0010 - val_mean_squared_error: 0.0010\n",
      "Epoch 25/50\n",
      "19/19 [==============================] - 2s 124ms/step - loss: 6.7772e-04 - mean_squared_error: 6.7772e-04 - val_loss: 0.0015 - val_mean_squared_error: 0.0015\n",
      "Epoch 26/50\n",
      "19/19 [==============================] - 2s 124ms/step - loss: 7.7192e-04 - mean_squared_error: 7.7192e-04 - val_loss: 0.0010 - val_mean_squared_error: 0.0010\n",
      "Epoch 27/50\n",
      "19/19 [==============================] - 2s 124ms/step - loss: 6.7067e-04 - mean_squared_error: 6.7067e-04 - val_loss: 0.0012 - val_mean_squared_error: 0.0012\n",
      "Epoch 28/50\n",
      "19/19 [==============================] - 2s 125ms/step - loss: 0.0010 - mean_squared_error: 0.0010 - val_loss: 0.0012 - val_mean_squared_error: 0.0012\n",
      "Epoch 29/50\n",
      "19/19 [==============================] - 2s 125ms/step - loss: 8.1755e-04 - mean_squared_error: 8.1755e-04 - val_loss: 9.3723e-04 - val_mean_squared_error: 9.3723e-04\n",
      "Epoch 30/50\n",
      "19/19 [==============================] - 2s 124ms/step - loss: 7.4751e-04 - mean_squared_error: 7.4751e-04 - val_loss: 8.7471e-04 - val_mean_squared_error: 8.7471e-04\n",
      "Epoch 31/50\n",
      "19/19 [==============================] - 2s 124ms/step - loss: 6.3342e-04 - mean_squared_error: 6.3342e-04 - val_loss: 0.0010 - val_mean_squared_error: 0.0010\n",
      "Epoch 32/50\n",
      "19/19 [==============================] - 2s 124ms/step - loss: 6.2339e-04 - mean_squared_error: 6.2339e-04 - val_loss: 8.6215e-04 - val_mean_squared_error: 8.6215e-04\n",
      "Epoch 33/50\n",
      "19/19 [==============================] - 2s 124ms/step - loss: 6.7285e-04 - mean_squared_error: 6.7285e-04 - val_loss: 9.3236e-04 - val_mean_squared_error: 9.3236e-04\n",
      "Epoch 34/50\n",
      "19/19 [==============================] - 2s 124ms/step - loss: 6.8221e-04 - mean_squared_error: 6.8221e-04 - val_loss: 6.9464e-04 - val_mean_squared_error: 6.9464e-04\n",
      "Epoch 35/50\n",
      "19/19 [==============================] - 2s 125ms/step - loss: 5.4083e-04 - mean_squared_error: 5.4083e-04 - val_loss: 6.6992e-04 - val_mean_squared_error: 6.6992e-04\n",
      "Epoch 36/50\n",
      "19/19 [==============================] - 2s 124ms/step - loss: 5.7900e-04 - mean_squared_error: 5.7900e-04 - val_loss: 9.0875e-04 - val_mean_squared_error: 9.0875e-04\n",
      "Epoch 37/50\n",
      "19/19 [==============================] - 2s 124ms/step - loss: 5.6934e-04 - mean_squared_error: 5.6934e-04 - val_loss: 6.8198e-04 - val_mean_squared_error: 6.8198e-04\n",
      "Epoch 38/50\n",
      "19/19 [==============================] - 2s 124ms/step - loss: 6.7170e-04 - mean_squared_error: 6.7170e-04 - val_loss: 7.2701e-04 - val_mean_squared_error: 7.2701e-04\n",
      "Epoch 39/50\n",
      "19/19 [==============================] - 2s 124ms/step - loss: 6.2294e-04 - mean_squared_error: 6.2294e-04 - val_loss: 7.9350e-04 - val_mean_squared_error: 7.9350e-04\n",
      "Epoch 40/50\n",
      "19/19 [==============================] - 2s 124ms/step - loss: 6.1062e-04 - mean_squared_error: 6.1062e-04 - val_loss: 0.0012 - val_mean_squared_error: 0.0012\n",
      "Epoch 41/50\n",
      "19/19 [==============================] - 2s 126ms/step - loss: 5.9650e-04 - mean_squared_error: 5.9650e-04 - val_loss: 7.0277e-04 - val_mean_squared_error: 7.0277e-04\n",
      "Epoch 42/50\n",
      "19/19 [==============================] - 2s 125ms/step - loss: 5.9474e-04 - mean_squared_error: 5.9474e-04 - val_loss: 6.1664e-04 - val_mean_squared_error: 6.1664e-04\n",
      "Epoch 43/50\n",
      "19/19 [==============================] - 2s 124ms/step - loss: 5.2801e-04 - mean_squared_error: 5.2801e-04 - val_loss: 6.6913e-04 - val_mean_squared_error: 6.6913e-04\n",
      "Epoch 44/50\n",
      "19/19 [==============================] - 2s 124ms/step - loss: 5.1670e-04 - mean_squared_error: 5.1670e-04 - val_loss: 7.6110e-04 - val_mean_squared_error: 7.6110e-04\n",
      "Epoch 45/50\n",
      "19/19 [==============================] - 2s 125ms/step - loss: 4.9408e-04 - mean_squared_error: 4.9408e-04 - val_loss: 9.0706e-04 - val_mean_squared_error: 9.0706e-04\n",
      "Epoch 46/50\n",
      "19/19 [==============================] - 2s 125ms/step - loss: 5.0165e-04 - mean_squared_error: 5.0165e-04 - val_loss: 7.1373e-04 - val_mean_squared_error: 7.1373e-04\n",
      "Epoch 47/50\n",
      "19/19 [==============================] - 2s 125ms/step - loss: 6.0971e-04 - mean_squared_error: 6.0971e-04 - val_loss: 7.6628e-04 - val_mean_squared_error: 7.6628e-04\n"
     ]
    },
    {
     "name": "stdout",
     "output_type": "stream",
     "text": [
      "Epoch 48/50\n",
      "19/19 [==============================] - 2s 125ms/step - loss: 4.4052e-04 - mean_squared_error: 4.4052e-04 - val_loss: 6.2182e-04 - val_mean_squared_error: 6.2182e-04\n",
      "Epoch 49/50\n",
      "19/19 [==============================] - 2s 125ms/step - loss: 4.5068e-04 - mean_squared_error: 4.5068e-04 - val_loss: 8.2925e-04 - val_mean_squared_error: 8.2925e-04\n",
      "Epoch 50/50\n",
      "19/19 [==============================] - 2s 124ms/step - loss: 4.6448e-04 - mean_squared_error: 4.6448e-04 - val_loss: 6.0331e-04 - val_mean_squared_error: 6.0331e-04\n",
      "Train size:606\n",
      "Valid.size:148\n",
      "--- 128.8407757282257 seconds ---\n"
     ]
    }
   ],
   "source": [
    "##################\n",
    "# TRAIN MODEL\n",
    "##################\n",
    "import tensorflow as tf\n",
    "from tensorflow.compat.v1.keras.backend import set_session\n",
    "config = tf.compat.v1.ConfigProto()\n",
    "config.gpu_options.allow_growth = True  # dynamically grow the memory used on the GPU\n",
    "config.log_device_placement = True  # to log device placement (on which device the operation ran)\n",
    "sess = tf.compat.v1.Session(config=config)\n",
    "set_session(sess)\n",
    "\n",
    "\n",
    "hist = train.fit( model, hyperparams, train_noisy, train_nitid, val_noisy, val_nitid )"
   ]
  },
  {
   "cell_type": "code",
   "execution_count": 7,
   "id": "14e98d6a",
   "metadata": {},
   "outputs": [
    {
     "data": {
      "image/png": "[encoded data removed]",
      "text/plain": [
       "<Figure size 432x288 with 1 Axes>"
      ]
     },
     "metadata": {
      "needs_background": "light"
     },
     "output_type": "display_data"
    }
   ],
   "source": [
    "##################\n",
    "# REPORTS\n",
    "##################\n",
    "reports.plotHistory( hist )"
   ]
  },
  {
   "cell_type": "code",
   "execution_count": 8,
   "id": "d5d0bd47",
   "metadata": {},
   "outputs": [
    {
     "ename": "IndexError",
     "evalue": "string index out of range",
     "output_type": "error",
     "traceback": [
      "\u001b[1;31m---------------------------------------------------------------------------\u001b[0m",
      "\u001b[1;31mIndexError\u001b[0m                                Traceback (most recent call last)",
      "Input \u001b[1;32mIn [8]\u001b[0m, in \u001b[0;36m<cell line: 5>\u001b[1;34m()\u001b[0m\n\u001b[0;32m      1\u001b[0m \u001b[38;5;66;03m##################\u001b[39;00m\n\u001b[0;32m      2\u001b[0m \u001b[38;5;66;03m# PREDICTIONS\u001b[39;00m\n\u001b[0;32m      3\u001b[0m \u001b[38;5;66;03m##################\u001b[39;00m\n\u001b[0;32m      4\u001b[0m ACCURACY_THRESHOLD \u001b[38;5;241m=\u001b[39m radiance_limits\u001b[38;5;241m.\u001b[39mnitid_max \u001b[38;5;241m/\u001b[39m \u001b[38;5;241m100.0\u001b[39m\n\u001b[1;32m----> 5\u001b[0m \u001b[43mreports\u001b[49m\u001b[38;5;241;43m.\u001b[39;49m\u001b[43mcalcPredictionMetrics\u001b[49m\u001b[43m(\u001b[49m\u001b[43m \u001b[49m\u001b[43mmodel\u001b[49m\u001b[43m,\u001b[49m\u001b[43m \u001b[49m\u001b[43mval_noisy\u001b[49m\u001b[43m,\u001b[49m\u001b[43m \u001b[49m\u001b[43mval_nitid\u001b[49m\u001b[43m,\u001b[49m\u001b[43m \u001b[49m\u001b[43mACCURACY_THRESHOLD\u001b[49m\u001b[43m  \u001b[49m\u001b[43m)\u001b[49m\n",
      "File \u001b[1;32m~\\TFMJupyter\\denoise\\support\\ReportsH.py:220\u001b[0m, in \u001b[0;36mcalcPredictionMetrics\u001b[1;34m(model, noisy_images, nitid_images, accuracy_threshold, save_pred, save_folder_name, noisy_files, nitid_files, max_nitid)\u001b[0m\n\u001b[0;32m    217\u001b[0m \u001b[38;5;28;01mif\u001b[39;00m acc_predi_current \u001b[38;5;241m>\u001b[39m acc_noisy_current:\n\u001b[0;32m    218\u001b[0m     bests_acc \u001b[38;5;241m+\u001b[39m\u001b[38;5;241m=\u001b[39m \u001b[38;5;241m1\u001b[39m\n\u001b[1;32m--> 220\u001b[0m metrics_csv\u001b[38;5;241m.\u001b[39mappend((os\u001b[38;5;241m.\u001b[39mpath\u001b[38;5;241m.\u001b[39mbasename(\u001b[43mnitid_files\u001b[49m\u001b[43m[\u001b[49m\u001b[43mi\u001b[49m\u001b[43m]\u001b[49m), msenz_noisy_current, msenz_predi_current, mse_noisy_current, mse_predi_current, psnr_noisy_current, psnr_predi_current, acc_noisy_current, acc_predi_current))\n\u001b[0;32m    222\u001b[0m \u001b[38;5;28;01mif\u001b[39;00m save_pred:\n\u001b[0;32m    224\u001b[0m     \u001b[38;5;28;01mif\u001b[39;00m predictions[i]\u001b[38;5;241m.\u001b[39mmax() \u001b[38;5;241m>\u001b[39m \u001b[38;5;241m1\u001b[39m \u001b[38;5;129;01mor\u001b[39;00m predictions[i]\u001b[38;5;241m.\u001b[39mmin() \u001b[38;5;241m<\u001b[39m \u001b[38;5;241m0\u001b[39m:\n",
      "\u001b[1;31mIndexError\u001b[0m: string index out of range"
     ]
    }
   ],
   "source": [
    "##################\n",
    "# PREDICTIONS\n",
    "##################\n",
    "ACCURACY_THRESHOLD = 0.01\n",
    "reports.calcPredictionMetrics( model, val_noisy, val_nitid, ACCURACY_THRESHOLD  )"
   ]
  },
  {
   "cell_type": "code",
   "execution_count": null,
   "id": "857d5c1d",
   "metadata": {},
   "outputs": [],
   "source": [
    "test_noisy_files, test_nitid_files, test_noisy, test_nitid = dsutils.readDataset( IMG_PATH_TEST, hyperparams.IMG_WIDTH, hyperparams.IMG_HEIGHT, radiance_limits)\n",
    "test_noisy, test_nitid = dsutils.reshapeDataset( test_noisy, test_nitid, hyperparams.IMG_WIDTH, hyperparams.IMG_HEIGHT )\n",
    "test_indexes = np.arange(0,test_noisy.shape[0])\n",
    "\n",
    "predictions = reports.predictByIndexes( model, test_noisy, test_nitid, test_noisy_files, test_nitid_files, test_indexes, \n",
    "                                      ACCURACY_THRESHOLD, radiance_limits.nitid_max, True )"
   ]
  },
  {
   "cell_type": "code",
   "execution_count": 9,
   "id": "46e4430f",
   "metadata": {},
   "outputs": [
    {
     "name": "stdout",
     "output_type": "stream",
     "text": [
      "INFO:tensorflow:Assets written to: C:/Users/rdelasheras/TFMJupyter/saves/0100_1000-256-aeconnect-a\\assets\n"
     ]
    },
    {
     "name": "stderr",
     "output_type": "stream",
     "text": [
      "C:\\Users\\rdelasheras\\Anaconda3\\envs\\tf-gpu\\lib\\site-packages\\keras\\utils\\generic_utils.py:494: CustomMaskWarning: Custom mask layers require a config and must override get_config. When loading, the custom mask layer must be passed to the custom_objects argument.\n",
      "  warnings.warn('Custom mask layers require a config and must override '\n"
     ]
    }
   ],
   "source": [
    "model.save('C:/Users/rdelasheras/TFMJupyter/saves/0100_1000-256-aeconnect-a')"
   ]
  }
 ],
 "metadata": {
  "kernelspec": {
   "display_name": "Python 3 (ipykernel)",
   "language": "python",
   "name": "python3"
  },
  "language_info": {
   "codemirror_mode": {
    "name": "ipython",
    "version": 3
   },
   "file_extension": ".py",
   "mimetype": "text/x-python",
   "name": "python",
   "nbconvert_exporter": "python",
   "pygments_lexer": "ipython3",
   "version": "3.9.12"
  }
 },
 "nbformat": 4,
 "nbformat_minor": 5
}
