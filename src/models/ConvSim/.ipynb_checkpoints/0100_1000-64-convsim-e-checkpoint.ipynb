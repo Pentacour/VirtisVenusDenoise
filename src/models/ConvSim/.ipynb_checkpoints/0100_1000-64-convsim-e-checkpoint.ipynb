{
 "cells": [
  {
   "cell_type": "code",
   "execution_count": 1,
   "id": "f1420dd8",
   "metadata": {},
   "outputs": [],
   "source": [
    "##############################################################################################################\n",
    "# DESCRIPTION: \n",
    "# RESULTS:     \n",
    "#              \n",
    "##############################################################################################################"
   ]
  },
  {
   "cell_type": "code",
   "execution_count": 2,
   "id": "144dbf0c",
   "metadata": {},
   "outputs": [],
   "source": [
    "######################\n",
    "# CONFIG & HYPERPARAMS\n",
    "######################\n",
    "\n",
    "import os\n",
    "\n",
    "class HyperParams:\n",
    "    pass\n",
    "\n",
    "IMG_PATH = \"C:/Projects/VenusDenoise/dataset/cases/64/0100_1000/\"\n",
    "\n",
    "IMG_PATH_VALID = IMG_PATH + \"validation/\"\n",
    "IMG_PATH_TEST = IMG_PATH + \"test/\"\n",
    "IMG_PATH_TRAIN = IMG_PATH\n",
    "\n",
    "hyperparams = HyperParams()\n",
    "hyperparams.IMG_WIDTH = 64\n",
    "hyperparams.IMG_HEIGHT = 64\n",
    "hyperparams.EPOCHS = 120\n",
    "hyperparams.BATCH_SIZE = 32\n",
    "\n",
    "hyperparams.LOSS = 'mae_nz'\n",
    "\n",
    "IMG_WIDTH = hyperparams.IMG_WIDTH\n",
    "IMG_HEIGHT = hyperparams.IMG_HEIGHT\n",
    "\n",
    "IMG_CASE = str(IMG_WIDTH) +  \"/0100_1000\"\n",
    "MODEL_NAME = \"0100_1000-64-convsim-d\"\n",
    "\n",
    "DEST_TESTS = os.path.abspath(os.path.join('../../../out_tests/', MODEL_NAME))\n",
    "\n",
    "class RadianceLimits:\n",
    "    pass\n",
    "radiance_limits = RadianceLimits()\n",
    "radiance_limits.noisy_min = 0\n",
    "radiance_limits.noisy_max = 0.0898\n",
    "radiance_limits.nitid_min = 0\n",
    "radiance_limits.nitid_max = 0.3248\n",
    "\n",
    "#from tensorflow.keras.optimizers import RMSprop\n",
    "#hyperparams.OPTIMIZER = RMSprop(learning_rate=0.0005)\n",
    "from tensorflow.keras.optimizers import Nadam\n",
    "hyperparams.OPTIMIZER = Nadam(learning_rate=0.0001)\n"
   ]
  },
  {
   "cell_type": "code",
   "execution_count": 3,
   "id": "be827de1",
   "metadata": {},
   "outputs": [],
   "source": [
    "##################\n",
    "# IMPORTS\n",
    "##################\n",
    "\n",
    "import tensorflow as tf\n",
    "config = tf.compat.v1.ConfigProto()\n",
    "config.gpu_options.allow_growth = True\n",
    "sess = tf.compat.v1.Session(config=config)\n",
    "\n",
    "import numpy as np\n",
    "import tensorflow \n",
    "from numpy.random import seed\n",
    "seed(1)\n",
    "tensorflow.random.set_seed(2)\n",
    "import os, sys\n",
    "module_path = os.path.abspath(os.path.join('../../support/'))\n",
    "if module_path not in sys.path:\n",
    "    sys.path.append(module_path)\n",
    "    \n",
    "import DatasetUtilsTifF as dsutils\n",
    "import TrainModelC as train\n",
    "import ReportsK as reports\n",
    "import ConvSimG as model_factory"
   ]
  },
  {
   "cell_type": "code",
   "execution_count": 4,
   "id": "a22f1b6e",
   "metadata": {},
   "outputs": [
    {
     "name": "stdout",
     "output_type": "stream",
     "text": [
      "Model: \"model\"\n",
      "__________________________________________________________________________________________________\n",
      "Layer (type)                    Output Shape         Param #     Connected to                     \n",
      "==================================================================================================\n",
      "input_1 (InputLayer)            [(None, 64, 64, 1)]  0                                            \n",
      "__________________________________________________________________________________________________\n",
      "conv2d_2 (Conv2D)               (None, 32, 32, 32)   544         input_1[0][0]                    \n",
      "__________________________________________________________________________________________________\n",
      "activation_4 (Activation)       (None, 32, 32, 32)   0           conv2d_2[0][0]                   \n",
      "__________________________________________________________________________________________________\n",
      "conv2d_3 (Conv2D)               (None, 16, 16, 16)   8208        activation_4[0][0]               \n",
      "__________________________________________________________________________________________________\n",
      "activation_5 (Activation)       (None, 16, 16, 16)   0           conv2d_3[0][0]                   \n",
      "__________________________________________________________________________________________________\n",
      "conv2d_4 (Conv2D)               (None, 8, 8, 8)      2056        activation_5[0][0]               \n",
      "__________________________________________________________________________________________________\n",
      "conv2d (Conv2D)                 (None, 32, 32, 32)   544         input_1[0][0]                    \n",
      "__________________________________________________________________________________________________\n",
      "activation_6 (Activation)       (None, 8, 8, 8)      0           conv2d_4[0][0]                   \n",
      "__________________________________________________________________________________________________\n",
      "activation (Activation)         (None, 32, 32, 32)   0           conv2d[0][0]                     \n",
      "__________________________________________________________________________________________________\n",
      "conv2d_transpose_2 (Conv2DTrans (None, 16, 16, 16)   2064        activation_6[0][0]               \n",
      "__________________________________________________________________________________________________\n",
      "conv2d_1 (Conv2D)               (None, 16, 16, 16)   8208        activation[0][0]                 \n",
      "__________________________________________________________________________________________________\n",
      "activation_7 (Activation)       (None, 16, 16, 16)   0           conv2d_transpose_2[0][0]         \n",
      "__________________________________________________________________________________________________\n",
      "activation_1 (Activation)       (None, 16, 16, 16)   0           conv2d_1[0][0]                   \n",
      "__________________________________________________________________________________________________\n",
      "add_1 (Add)                     (None, 16, 16, 16)   0           activation_5[0][0]               \n",
      "                                                                 activation_7[0][0]               \n",
      "__________________________________________________________________________________________________\n",
      "conv2d_transpose (Conv2DTranspo (None, 32, 32, 32)   8224        activation_1[0][0]               \n",
      "__________________________________________________________________________________________________\n",
      "conv2d_transpose_3 (Conv2DTrans (None, 32, 32, 32)   8224        add_1[0][0]                      \n",
      "__________________________________________________________________________________________________\n",
      "activation_2 (Activation)       (None, 32, 32, 32)   0           conv2d_transpose[0][0]           \n",
      "__________________________________________________________________________________________________\n",
      "activation_8 (Activation)       (None, 32, 32, 32)   0           conv2d_transpose_3[0][0]         \n",
      "__________________________________________________________________________________________________\n",
      "add (Add)                       (None, 32, 32, 32)   0           activation[0][0]                 \n",
      "                                                                 activation_2[0][0]               \n",
      "__________________________________________________________________________________________________\n",
      "add_2 (Add)                     (None, 32, 32, 32)   0           activation_4[0][0]               \n",
      "                                                                 activation_8[0][0]               \n",
      "__________________________________________________________________________________________________\n",
      "conv2d_transpose_1 (Conv2DTrans (None, 64, 64, 1)    513         add[0][0]                        \n",
      "__________________________________________________________________________________________________\n",
      "conv2d_transpose_4 (Conv2DTrans (None, 64, 64, 1)    513         add_2[0][0]                      \n",
      "__________________________________________________________________________________________________\n",
      "activation_3 (Activation)       (None, 64, 64, 1)    0           conv2d_transpose_1[0][0]         \n",
      "__________________________________________________________________________________________________\n",
      "activation_9 (Activation)       (None, 64, 64, 1)    0           conv2d_transpose_4[0][0]         \n",
      "__________________________________________________________________________________________________\n",
      "add_3 (Add)                     (None, 64, 64, 1)    0           activation_3[0][0]               \n",
      "                                                                 activation_9[0][0]               \n",
      "==================================================================================================\n",
      "Total params: 39,098\n",
      "Trainable params: 39,098\n",
      "Non-trainable params: 0\n",
      "__________________________________________________________________________________________________\n"
     ]
    },
    {
     "data": {
      "text/plain": [
       "{'name': 'Nadam',\n",
       " 'learning_rate': 0.0001,\n",
       " 'decay': 0.004,\n",
       " 'beta_1': 0.9,\n",
       " 'beta_2': 0.999,\n",
       " 'epsilon': 1e-07}"
      ]
     },
     "execution_count": 4,
     "metadata": {},
     "output_type": "execute_result"
    }
   ],
   "source": [
    "##################\n",
    "# MODEL DEFINITION\n",
    "##################\n",
    "model = model_factory.buildModel(hyperparams)\n",
    "model.summary()\n",
    "model.optimizer.get_config()\n",
    "model.optimizer.get_config()"
   ]
  },
  {
   "cell_type": "code",
   "execution_count": 5,
   "id": "0f1de709",
   "metadata": {},
   "outputs": [
    {
     "name": "stdout",
     "output_type": "stream",
     "text": [
      "Read dataset. Path: C:/Projects/VenusDenoise/dataset/cases/64/0100_1000/\n",
      "Noisy files:9696\n",
      "Nitid files:9696\n",
      "Read dataset. Path: C:/Projects/VenusDenoise/dataset/cases/64/0100_1000/validation/\n",
      "Noisy files:2309\n",
      "Nitid files:2309\n"
     ]
    }
   ],
   "source": [
    "##################\n",
    "# PREPARE DATA\n",
    "##################\n",
    "\n",
    "train_noisy_files, train_nitid_files, train_noisy, train_nitid = dsutils.readDataset( IMG_PATH_TRAIN, hyperparams.IMG_WIDTH, hyperparams.IMG_HEIGHT, radiance_limits)\n",
    "val_noisy_files, val_nitid_files, val_noisy, val_nitid = dsutils.readDataset( IMG_PATH_VALID, hyperparams.IMG_WIDTH, hyperparams.IMG_HEIGHT, radiance_limits)\n",
    "\n",
    "train_noisy, train_nitid = dsutils.reshapeDataset( train_noisy, train_nitid, hyperparams.IMG_WIDTH, hyperparams.IMG_HEIGHT )\n",
    "val_noisy, val_nitid = dsutils.reshapeDataset( val_noisy, val_nitid, hyperparams.IMG_WIDTH, hyperparams.IMG_HEIGHT )"
   ]
  },
  {
   "cell_type": "code",
   "execution_count": 6,
   "id": "1df4c982",
   "metadata": {},
   "outputs": [
    {
     "name": "stdout",
     "output_type": "stream",
     "text": [
      "Device mapping:\n",
      "/job:localhost/replica:0/task:0/device:GPU:0 -> device: 0, name: NVIDIA GeForce RTX 3070 Ti, pci bus id: 0000:2b:00.0, compute capability: 8.6\n",
      "\n",
      "Epoch 1/120\n",
      "303/303 [==============================] - 11s 18ms/step - loss: 0.0020 - val_loss: 9.3102e-04\n",
      "Epoch 2/120\n",
      "303/303 [==============================] - 5s 17ms/step - loss: 9.1573e-04 - val_loss: 7.9901e-04\n",
      "Epoch 3/120\n",
      "303/303 [==============================] - 5s 17ms/step - loss: 8.4410e-04 - val_loss: 7.4194e-04\n",
      "Epoch 4/120\n",
      "303/303 [==============================] - 5s 17ms/step - loss: 8.0718e-04 - val_loss: 7.3591e-04\n",
      "Epoch 5/120\n",
      "303/303 [==============================] - 5s 17ms/step - loss: 7.8658e-04 - val_loss: 7.0935e-04\n",
      "Epoch 6/120\n",
      "303/303 [==============================] - 5s 17ms/step - loss: 7.7315e-04 - val_loss: 7.2113e-04\n",
      "Epoch 7/120\n",
      "303/303 [==============================] - 5s 17ms/step - loss: 7.6325e-04 - val_loss: 7.1192e-04\n",
      "Epoch 8/120\n",
      "303/303 [==============================] - 5s 17ms/step - loss: 7.5520e-04 - val_loss: 6.9984e-04\n",
      "Epoch 9/120\n",
      "303/303 [==============================] - 5s 17ms/step - loss: 7.4856e-04 - val_loss: 7.1317e-04\n",
      "Epoch 10/120\n",
      "303/303 [==============================] - 5s 16ms/step - loss: 7.4360e-04 - val_loss: 7.2634e-04\n",
      "Epoch 11/120\n",
      "303/303 [==============================] - 5s 16ms/step - loss: 7.3706e-04 - val_loss: 7.0190e-04\n",
      "Epoch 12/120\n",
      "303/303 [==============================] - 5s 16ms/step - loss: 7.3324e-04 - val_loss: 7.0599e-04\n",
      "Epoch 13/120\n",
      "303/303 [==============================] - 5s 17ms/step - loss: 7.3048e-04 - val_loss: 7.0215e-04\n",
      "Epoch 14/120\n",
      "303/303 [==============================] - 5s 17ms/step - loss: 7.2712e-04 - val_loss: 6.9604e-04\n",
      "Epoch 15/120\n",
      "303/303 [==============================] - 5s 17ms/step - loss: 7.2352e-04 - val_loss: 6.7309e-04\n",
      "Epoch 16/120\n",
      "303/303 [==============================] - 5s 17ms/step - loss: 7.2245e-04 - val_loss: 7.0186e-04\n",
      "Epoch 17/120\n",
      "303/303 [==============================] - 5s 17ms/step - loss: 7.1943e-04 - val_loss: 7.1400e-04\n",
      "Epoch 18/120\n",
      "303/303 [==============================] - 5s 17ms/step - loss: 7.1645e-04 - val_loss: 6.7380e-04\n",
      "Epoch 19/120\n",
      "303/303 [==============================] - 5s 16ms/step - loss: 7.1587e-04 - val_loss: 6.8637e-04\n",
      "Epoch 20/120\n",
      "303/303 [==============================] - 5s 17ms/step - loss: 7.1386e-04 - val_loss: 6.7419e-04\n",
      "Epoch 21/120\n",
      "303/303 [==============================] - 5s 17ms/step - loss: 7.1183e-04 - val_loss: 6.8946e-04\n",
      "Epoch 22/120\n",
      "303/303 [==============================] - 5s 17ms/step - loss: 7.1029e-04 - val_loss: 6.8503e-04\n",
      "Epoch 23/120\n",
      "303/303 [==============================] - 5s 17ms/step - loss: 7.0856e-04 - val_loss: 6.7129e-04\n",
      "Epoch 24/120\n",
      "303/303 [==============================] - 5s 17ms/step - loss: 7.0764e-04 - val_loss: 7.3594e-04\n",
      "Epoch 25/120\n",
      "303/303 [==============================] - 5s 17ms/step - loss: 7.0645e-04 - val_loss: 6.7302e-04\n",
      "Epoch 26/120\n",
      "303/303 [==============================] - 5s 17ms/step - loss: 7.0453e-04 - val_loss: 6.6882e-04\n",
      "Epoch 27/120\n",
      "303/303 [==============================] - 5s 17ms/step - loss: 7.0448e-04 - val_loss: 7.0928e-04\n",
      "Epoch 28/120\n",
      "303/303 [==============================] - 5s 16ms/step - loss: 7.0362e-04 - val_loss: 6.5782e-04\n",
      "Epoch 29/120\n",
      "303/303 [==============================] - 5s 17ms/step - loss: 7.0210e-04 - val_loss: 7.2252e-04\n",
      "Epoch 30/120\n",
      "303/303 [==============================] - 5s 16ms/step - loss: 7.0037e-04 - val_loss: 6.7184e-04\n",
      "Epoch 31/120\n",
      "303/303 [==============================] - 5s 16ms/step - loss: 7.0063e-04 - val_loss: 6.9293e-04\n",
      "Epoch 32/120\n",
      "303/303 [==============================] - 5s 16ms/step - loss: 6.9857e-04 - val_loss: 6.7557e-04\n",
      "Epoch 33/120\n",
      "303/303 [==============================] - 5s 17ms/step - loss: 6.9646e-04 - val_loss: 7.1694e-04\n",
      "Epoch 34/120\n",
      "303/303 [==============================] - 5s 16ms/step - loss: 6.9756e-04 - val_loss: 7.0588e-04\n",
      "Epoch 35/120\n",
      "303/303 [==============================] - 5s 17ms/step - loss: 6.9584e-04 - val_loss: 6.7312e-04\n",
      "Epoch 36/120\n",
      "303/303 [==============================] - 5s 17ms/step - loss: 6.9452e-04 - val_loss: 6.6625e-04\n",
      "Epoch 37/120\n",
      "303/303 [==============================] - 5s 16ms/step - loss: 6.9320e-04 - val_loss: 6.8358e-04\n",
      "Epoch 38/120\n",
      "303/303 [==============================] - 5s 16ms/step - loss: 6.9354e-04 - val_loss: 6.7668e-04\n",
      "Epoch 39/120\n",
      "303/303 [==============================] - 5s 17ms/step - loss: 6.9225e-04 - val_loss: 7.4951e-04\n",
      "Epoch 40/120\n",
      "303/303 [==============================] - 5s 17ms/step - loss: 6.9069e-04 - val_loss: 6.9422e-04\n",
      "Epoch 41/120\n",
      "303/303 [==============================] - 5s 17ms/step - loss: 6.9000e-04 - val_loss: 6.8463e-04\n",
      "Epoch 42/120\n",
      "303/303 [==============================] - 5s 17ms/step - loss: 6.8780e-04 - val_loss: 6.7269e-04\n",
      "Epoch 43/120\n",
      "303/303 [==============================] - 5s 16ms/step - loss: 6.8874e-04 - val_loss: 6.8363e-04\n",
      "Epoch 44/120\n",
      "303/303 [==============================] - 5s 16ms/step - loss: 6.8540e-04 - val_loss: 7.1489e-04\n",
      "Epoch 45/120\n",
      "303/303 [==============================] - 5s 17ms/step - loss: 6.8614e-04 - val_loss: 6.8960e-04\n",
      "Epoch 46/120\n",
      "303/303 [==============================] - 5s 16ms/step - loss: 6.8419e-04 - val_loss: 6.8633e-04\n",
      "Epoch 47/120\n",
      "303/303 [==============================] - 5s 16ms/step - loss: 6.8323e-04 - val_loss: 7.0951e-04\n",
      "Epoch 48/120\n",
      "303/303 [==============================] - 5s 17ms/step - loss: 6.8389e-04 - val_loss: 7.2045e-04\n",
      "Train size:9696\n",
      "Valid.size:2309\n",
      "--- 248.5698642730713 seconds ---\n"
     ]
    }
   ],
   "source": [
    "##################\n",
    "# TRAIN MODEL\n",
    "##################\n",
    "import tensorflow as tf\n",
    "from tensorflow.compat.v1.keras.backend import set_session\n",
    "config = tf.compat.v1.ConfigProto()\n",
    "config.gpu_options.allow_growth = True  # dynamically grow the memory used on the GPU\n",
    "config.log_device_placement = True  # to log device placement (on which device the operation ran)\n",
    "sess = tf.compat.v1.Session(config=config)\n",
    "set_session(sess)\n",
    "\n",
    "\n",
    "hist = train.fit( model, hyperparams, train_noisy, train_nitid, val_noisy, val_nitid, patience = 20 )"
   ]
  },
  {
   "cell_type": "code",
   "execution_count": 7,
   "id": "14e98d6a",
   "metadata": {},
   "outputs": [
    {
     "data": {
      "image/png": "[encoded data removed]",
      "text/plain": [
       "<Figure size 432x288 with 1 Axes>"
      ]
     },
     "metadata": {
      "needs_background": "light"
     },
     "output_type": "display_data"
    }
   ],
   "source": [
    "##################\n",
    "# REPORTS\n",
    "##################\n",
    "reports.plotHistory( hist )"
   ]
  },
  {
   "cell_type": "code",
   "execution_count": 9,
   "id": "004bc8e4",
   "metadata": {},
   "outputs": [
    {
     "name": "stdout",
     "output_type": "stream",
     "text": [
      "Black image found\n",
      "Black image found\n",
      "Images count =2309\n",
      "Best RMSENZ  =2108 (0.91)\n",
      "Best MAENZ   =2095 (0.91)\n",
      "Best Accuracy=2028 (0.88)\n",
      "RMSE-NZ  Pred=0.0295  Noisy=0.0943\n",
      "MAE-NZ   Pred=0.0252  Noisy=0.0904\n",
      "PSNR     Pred=18.1 dB Noisy=9.3 dB\n",
      "Accuracy Pred=0.31    Noisy=0.09\n",
      "SSM      Pred=0.94    Noisy=0.67\n",
      "HOG MSE  Pred=0.10    Noisy=0.12\n"
     ]
    }
   ],
   "source": [
    "##################\n",
    "# PREDICTIONS\n",
    "##################\n",
    "ACCURACY_THRESHOLD = 0.01\n",
    "predictions_metrics, predictions_headers \\\n",
    "    = reports.calcPredictionMetrics( model, val_noisy, val_nitid, ACCURACY_THRESHOLD, \\\n",
    "                                    save_pred = True, save_path = DEST_TESTS, \\\n",
    "                                    noisy_files = val_noisy_files, nitid_files = val_nitid_files, \\\n",
    "                                    max_nitid= radiance_limits.nitid_max  )"
   ]
  },
  {
   "cell_type": "code",
   "execution_count": 8,
   "id": "46e4430f",
   "metadata": {},
   "outputs": [
    {
     "name": "stdout",
     "output_type": "stream",
     "text": [
      "INFO:tensorflow:Assets written to: C:\\Projects\\VenusDenoise\\saves\\0100_1000-64-convsim-d\\assets\n"
     ]
    },
    {
     "name": "stderr",
     "output_type": "stream",
     "text": [
      "C:\\Users\\rdelasheras\\Anaconda3\\envs\\tf-gpu\\lib\\site-packages\\keras\\utils\\generic_utils.py:494: CustomMaskWarning: Custom mask layers require a config and must override get_config. When loading, the custom mask layer must be passed to the custom_objects argument.\n",
      "  warnings.warn('Custom mask layers require a config and must override '\n"
     ]
    }
   ],
   "source": [
    "model.save(os.path.abspath(os.path.join('../../../saves/', MODEL_NAME)), model)"
   ]
  },
  {
   "cell_type": "code",
   "execution_count": null,
   "id": "bd185317",
   "metadata": {},
   "outputs": [],
   "source": []
  }
 ],
 "metadata": {
  "kernelspec": {
   "display_name": "Python 3 (ipykernel)",
   "language": "python",
   "name": "python3"
  },
  "language_info": {
   "codemirror_mode": {
    "name": "ipython",
    "version": 3
   },
   "file_extension": ".py",
   "mimetype": "text/x-python",
   "name": "python",
   "nbconvert_exporter": "python",
   "pygments_lexer": "ipython3",
   "version": "3.9.12"
  }
 },
 "nbformat": 4,
 "nbformat_minor": 5
}
