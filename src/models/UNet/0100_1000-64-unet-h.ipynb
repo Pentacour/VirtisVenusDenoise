{
 "cells": [
  {
   "cell_type": "code",
   "execution_count": 1,
   "id": "517443e0",
   "metadata": {},
   "outputs": [],
   "source": [
    "##############################################################################################################\n",
    "# DESCRIPTION: \n",
    "#              \n",
    "# RESULTS:     \n",
    "#              \n",
    "##############################################################################################################"
   ]
  },
  {
   "cell_type": "code",
   "execution_count": 2,
   "id": "e744b44a",
   "metadata": {},
   "outputs": [],
   "source": [
    "######################\n",
    "# CONFIG & HYPERPARAMS\n",
    "######################\n",
    "\n",
    "import os\n",
    "\n",
    "class HyperParams:\n",
    "    pass\n",
    "\n",
    "IMG_PATH = \"C:/Projects/VenusDenoise/dataset/cases/64/0100_1000/\"\n",
    "\n",
    "hyperparams = HyperParams()\n",
    "hyperparams.IMG_WIDTH = 64\n",
    "hyperparams.IMG_HEIGHT = 64\n",
    "hyperparams.EPOCHS = 600 #10000\n",
    "hyperparams.BATCH_SIZE = 16\n",
    "hyperparams.START_NEURONS = 8 # UNET\n",
    "hyperparams.LOSS = 'mean_absolute_error'\n",
    "\n",
    "IMG_WIDTH = hyperparams.IMG_WIDTH\n",
    "IMG_HEIGHT = hyperparams.IMG_HEIGHT\n",
    "\n",
    "IMG_CASE = str(IMG_WIDTH) +  \"/0100_1000\"\n",
    "SAVED_MODEL = \"0100_1000-64-h\"\n",
    "\n",
    "IMG_PATH_VALID = IMG_PATH + \"validation/\"\n",
    "IMG_PATH_TEST = IMG_PATH + \"test/\"\n",
    "IMG_PATH_TRAIN = IMG_PATH\n",
    "\n",
    "DEST_TESTS = os.path.abspath(os.path.join('../../../out_tests/', SAVED_MODEL))\n",
    "\n",
    "class RadianceLimits:\n",
    "    pass\n",
    "radiance_limits = RadianceLimits()\n",
    "radiance_limits.noisy_min = 0\n",
    "radiance_limits.noisy_max = 0.0898\n",
    "radiance_limits.nitid_min = 0\n",
    "radiance_limits.nitid_max = 0.3248\n",
    "\n",
    "#from tensorflow.keras.optimizers import Adam\n",
    "#hyperparams.OPTIMIZER = Adam(learning_rate=0.0001)\n",
    "#from tensorflow.keras.optimizers import Nadam\n",
    "#hyperparams.OPTIMIZER = Nadam(learning_rate=0.0001)\n",
    "from tensorflow.keras.optimizers import RMSprop\n",
    "hyperparams.OPTIMIZER = RMSprop(learning_rate = 0.0001)"
   ]
  },
  {
   "cell_type": "code",
   "execution_count": 3,
   "id": "1634ee60",
   "metadata": {},
   "outputs": [],
   "source": [
    "##################\n",
    "# IMPORTS\n",
    "##################\n",
    "\n",
    "import tensorflow as tf\n",
    "from tensorflow.compat.v1 import InteractiveSession\n",
    "\n",
    "config = tf.compat.v1.ConfigProto()\n",
    "config.gpu_options.allow_growth = True\n",
    "session = InteractiveSession(config=config)\n",
    "\n",
    "import numpy as np\n",
    "import tensorflow \n",
    "from numpy.random import seed\n",
    "seed(1)\n",
    "tensorflow.random.set_seed(2)\n",
    "import os, sys\n",
    "module_path = os.path.abspath(os.path.join('../../support/'))\n",
    "if module_path not in sys.path:\n",
    "    sys.path.append(module_path)\n",
    "    \n",
    "import DatasetUtilsTifF as dsutils\n",
    "import TrainModelC as train\n",
    "import ReportsK as reports\n",
    "import UnetI as model_factory"
   ]
  },
  {
   "cell_type": "code",
   "execution_count": 4,
   "id": "b516b30b",
   "metadata": {},
   "outputs": [
    {
     "name": "stdout",
     "output_type": "stream",
     "text": [
      "[name: \"/device:CPU:0\"\n",
      "device_type: \"CPU\"\n",
      "memory_limit: 268435456\n",
      "locality {\n",
      "}\n",
      "incarnation: 2591264271508840261\n",
      ", name: \"/device:GPU:0\"\n",
      "device_type: \"GPU\"\n",
      "memory_limit: 1222082560\n",
      "locality {\n",
      "  bus_id: 1\n",
      "  links {\n",
      "  }\n",
      "}\n",
      "incarnation: 17555570561914127746\n",
      "physical_device_desc: \"device: 0, name: NVIDIA GeForce RTX 3070 Ti, pci bus id: 0000:2b:00.0, compute capability: 8.6\"\n",
      "]\n",
      "Tensorflow version: 2.6.0\n",
      "Keras Version: 2.6.0\n",
      "GPU is available\n"
     ]
    },
    {
     "data": {
      "text/plain": [
       "[PhysicalDevice(name='/physical_device:GPU:0', device_type='GPU')]"
      ]
     },
     "execution_count": 4,
     "metadata": {},
     "output_type": "execute_result"
    }
   ],
   "source": [
    "from tensorflow.python.client import device_lib\n",
    "print(device_lib.list_local_devices())\n",
    "\n",
    "print(f\"Tensorflow version: {tf.__version__}\")\n",
    "print(f\"Keras Version: {tf.keras.__version__}\")\n",
    "print(\"GPU is\", \"available\" if tf.config.list_physical_devices('GPU') else \"NOT AVAILABLE\")\n",
    "\n",
    "tf.config.list_physical_devices('GPU')"
   ]
  },
  {
   "cell_type": "code",
   "execution_count": 5,
   "id": "d4dda609",
   "metadata": {},
   "outputs": [
    {
     "name": "stdout",
     "output_type": "stream",
     "text": [
      "Model: \"model\"\n",
      "__________________________________________________________________________________________________\n",
      "Layer (type)                    Output Shape         Param #     Connected to                     \n",
      "==================================================================================================\n",
      "input_1 (InputLayer)            [(None, 64, 64, 1)]  0                                            \n",
      "__________________________________________________________________________________________________\n",
      "conv2d (Conv2D)                 (None, 64, 64, 8)    80          input_1[0][0]                    \n",
      "__________________________________________________________________________________________________\n",
      "conv2d_1 (Conv2D)               (None, 64, 64, 8)    584         conv2d[0][0]                     \n",
      "__________________________________________________________________________________________________\n",
      "max_pooling2d (MaxPooling2D)    (None, 32, 32, 8)    0           conv2d_1[0][0]                   \n",
      "__________________________________________________________________________________________________\n",
      "dropout (Dropout)               (None, 32, 32, 8)    0           max_pooling2d[0][0]              \n",
      "__________________________________________________________________________________________________\n",
      "conv2d_2 (Conv2D)               (None, 32, 32, 16)   1168        dropout[0][0]                    \n",
      "__________________________________________________________________________________________________\n",
      "conv2d_3 (Conv2D)               (None, 32, 32, 16)   2320        conv2d_2[0][0]                   \n",
      "__________________________________________________________________________________________________\n",
      "max_pooling2d_1 (MaxPooling2D)  (None, 16, 16, 16)   0           conv2d_3[0][0]                   \n",
      "__________________________________________________________________________________________________\n",
      "dropout_1 (Dropout)             (None, 16, 16, 16)   0           max_pooling2d_1[0][0]            \n",
      "__________________________________________________________________________________________________\n",
      "conv2d_4 (Conv2D)               (None, 16, 16, 32)   4640        dropout_1[0][0]                  \n",
      "__________________________________________________________________________________________________\n",
      "conv2d_5 (Conv2D)               (None, 16, 16, 32)   9248        conv2d_4[0][0]                   \n",
      "__________________________________________________________________________________________________\n",
      "max_pooling2d_2 (MaxPooling2D)  (None, 8, 8, 32)     0           conv2d_5[0][0]                   \n",
      "__________________________________________________________________________________________________\n",
      "dropout_2 (Dropout)             (None, 8, 8, 32)     0           max_pooling2d_2[0][0]            \n",
      "__________________________________________________________________________________________________\n",
      "conv2d_6 (Conv2D)               (None, 8, 8, 64)     18496       dropout_2[0][0]                  \n",
      "__________________________________________________________________________________________________\n",
      "conv2d_7 (Conv2D)               (None, 8, 8, 64)     36928       conv2d_6[0][0]                   \n",
      "__________________________________________________________________________________________________\n",
      "max_pooling2d_3 (MaxPooling2D)  (None, 4, 4, 64)     0           conv2d_7[0][0]                   \n",
      "__________________________________________________________________________________________________\n",
      "dropout_3 (Dropout)             (None, 4, 4, 64)     0           max_pooling2d_3[0][0]            \n",
      "__________________________________________________________________________________________________\n",
      "conv2d_8 (Conv2D)               (None, 4, 4, 128)    73856       dropout_3[0][0]                  \n",
      "__________________________________________________________________________________________________\n",
      "conv2d_9 (Conv2D)               (None, 4, 4, 128)    147584      conv2d_8[0][0]                   \n",
      "__________________________________________________________________________________________________\n",
      "conv2d_transpose (Conv2DTranspo (None, 8, 8, 64)     73792       conv2d_9[0][0]                   \n",
      "__________________________________________________________________________________________________\n",
      "concatenate (Concatenate)       (None, 8, 8, 128)    0           conv2d_transpose[0][0]           \n",
      "                                                                 conv2d_7[0][0]                   \n",
      "__________________________________________________________________________________________________\n",
      "dropout_4 (Dropout)             (None, 8, 8, 128)    0           concatenate[0][0]                \n",
      "__________________________________________________________________________________________________\n",
      "conv2d_10 (Conv2D)              (None, 8, 8, 64)     73792       dropout_4[0][0]                  \n",
      "__________________________________________________________________________________________________\n",
      "conv2d_11 (Conv2D)              (None, 8, 8, 64)     36928       conv2d_10[0][0]                  \n",
      "__________________________________________________________________________________________________\n",
      "conv2d_transpose_1 (Conv2DTrans (None, 16, 16, 64)   36928       conv2d_11[0][0]                  \n",
      "__________________________________________________________________________________________________\n",
      "concatenate_1 (Concatenate)     (None, 16, 16, 96)   0           conv2d_transpose_1[0][0]         \n",
      "                                                                 conv2d_5[0][0]                   \n",
      "__________________________________________________________________________________________________\n",
      "dropout_5 (Dropout)             (None, 16, 16, 96)   0           concatenate_1[0][0]              \n",
      "__________________________________________________________________________________________________\n",
      "conv2d_12 (Conv2D)              (None, 16, 16, 32)   27680       dropout_5[0][0]                  \n",
      "__________________________________________________________________________________________________\n",
      "conv2d_13 (Conv2D)              (None, 16, 16, 32)   9248        conv2d_12[0][0]                  \n",
      "__________________________________________________________________________________________________\n",
      "conv2d_transpose_2 (Conv2DTrans (None, 32, 32, 64)   18496       conv2d_13[0][0]                  \n",
      "__________________________________________________________________________________________________\n",
      "concatenate_2 (Concatenate)     (None, 32, 32, 80)   0           conv2d_transpose_2[0][0]         \n",
      "                                                                 conv2d_3[0][0]                   \n",
      "__________________________________________________________________________________________________\n",
      "dropout_6 (Dropout)             (None, 32, 32, 80)   0           concatenate_2[0][0]              \n",
      "__________________________________________________________________________________________________\n",
      "conv2d_14 (Conv2D)              (None, 32, 32, 16)   11536       dropout_6[0][0]                  \n",
      "__________________________________________________________________________________________________\n",
      "conv2d_15 (Conv2D)              (None, 32, 32, 16)   2320        conv2d_14[0][0]                  \n",
      "__________________________________________________________________________________________________\n",
      "conv2d_transpose_3 (Conv2DTrans (None, 64, 64, 64)   9280        conv2d_15[0][0]                  \n",
      "__________________________________________________________________________________________________\n",
      "concatenate_3 (Concatenate)     (None, 64, 64, 72)   0           conv2d_transpose_3[0][0]         \n",
      "                                                                 conv2d_1[0][0]                   \n",
      "__________________________________________________________________________________________________\n",
      "dropout_7 (Dropout)             (None, 64, 64, 72)   0           concatenate_3[0][0]              \n",
      "__________________________________________________________________________________________________\n",
      "conv2d_16 (Conv2D)              (None, 64, 64, 8)    5192        dropout_7[0][0]                  \n",
      "__________________________________________________________________________________________________\n",
      "conv2d_17 (Conv2D)              (None, 64, 64, 8)    584         conv2d_16[0][0]                  \n",
      "__________________________________________________________________________________________________\n",
      "conv2d_18 (Conv2D)              (None, 64, 64, 1)    9           conv2d_17[0][0]                  \n",
      "==================================================================================================\n",
      "Total params: 600,689\n",
      "Trainable params: 600,689\n",
      "Non-trainable params: 0\n",
      "__________________________________________________________________________________________________\n"
     ]
    },
    {
     "data": {
      "text/plain": [
       "{'name': 'RMSprop',\n",
       " 'learning_rate': 0.0001,\n",
       " 'decay': 0.0,\n",
       " 'rho': 0.9,\n",
       " 'momentum': 0.0,\n",
       " 'epsilon': 1e-07,\n",
       " 'centered': False}"
      ]
     },
     "execution_count": 5,
     "metadata": {},
     "output_type": "execute_result"
    }
   ],
   "source": [
    "##################\n",
    "# MODEL DEFINITION\n",
    "##################\n",
    "\n",
    "model = model_factory.buildModel(hyperparams)\n",
    "model.summary()\n",
    "model.optimizer.get_config()"
   ]
  },
  {
   "cell_type": "code",
   "execution_count": 6,
   "id": "7cf11c8a",
   "metadata": {},
   "outputs": [
    {
     "name": "stdout",
     "output_type": "stream",
     "text": [
      "Read dataset. Path: C:/Projects/VenusDenoise/dataset/cases/64/0100_1000/\n",
      "Noisy files:9696\n",
      "Nitid files:9696\n",
      "Read dataset. Path: C:/Projects/VenusDenoise/dataset/cases/64/0100_1000/validation/\n",
      "Noisy files:2309\n",
      "Nitid files:2309\n"
     ]
    }
   ],
   "source": [
    "##################\n",
    "# PREPARE DATA\n",
    "##################\n",
    "\n",
    "train_noisy_files, train_nitid_files, train_noisy, train_nitid = dsutils.readDataset( IMG_PATH_TRAIN, hyperparams.IMG_WIDTH, hyperparams.IMG_HEIGHT, radiance_limits)\n",
    "val_noisy_files, val_nitid_files, val_noisy, val_nitid = dsutils.readDataset( IMG_PATH_VALID, hyperparams.IMG_WIDTH, hyperparams.IMG_HEIGHT, radiance_limits)\n",
    "\n",
    "train_noisy, train_nitid = dsutils.reshapeDataset( train_noisy, train_nitid, hyperparams.IMG_WIDTH, hyperparams.IMG_HEIGHT )\n",
    "val_noisy, val_nitid = dsutils.reshapeDataset( val_noisy, val_nitid, hyperparams.IMG_WIDTH, hyperparams.IMG_HEIGHT )"
   ]
  },
  {
   "cell_type": "code",
   "execution_count": 7,
   "id": "88b591f7",
   "metadata": {},
   "outputs": [
    {
     "name": "stdout",
     "output_type": "stream",
     "text": [
      "Epoch 1/600\n",
      "606/606 [==============================] - 24s 31ms/step - loss: 0.1180 - val_loss: 0.0385\n",
      "Epoch 2/600\n",
      "606/606 [==============================] - 18s 30ms/step - loss: 0.0320 - val_loss: 0.0317\n",
      "Epoch 3/600\n",
      "606/606 [==============================] - 18s 30ms/step - loss: 0.0261 - val_loss: 0.0261\n",
      "Epoch 4/600\n",
      "606/606 [==============================] - 18s 30ms/step - loss: 0.0245 - val_loss: 0.0228\n",
      "Epoch 5/600\n",
      "606/606 [==============================] - 18s 30ms/step - loss: 0.0237 - val_loss: 0.0244\n",
      "Epoch 6/600\n",
      "606/606 [==============================] - 19s 31ms/step - loss: 0.0231 - val_loss: 0.0227\n",
      "Epoch 7/600\n",
      "606/606 [==============================] - 18s 29ms/step - loss: 0.0228 - val_loss: 0.0217\n",
      "Epoch 8/600\n",
      "606/606 [==============================] - 18s 29ms/step - loss: 0.0225 - val_loss: 0.0220\n",
      "Epoch 9/600\n",
      "606/606 [==============================] - 18s 29ms/step - loss: 0.0223 - val_loss: 0.0239\n",
      "Epoch 10/600\n",
      "606/606 [==============================] - 18s 29ms/step - loss: 0.0221 - val_loss: 0.0233\n",
      "Epoch 11/600\n",
      "606/606 [==============================] - 18s 29ms/step - loss: 0.0218 - val_loss: 0.0240\n",
      "Epoch 12/600\n",
      "606/606 [==============================] - 18s 29ms/step - loss: 0.0217 - val_loss: 0.0238\n",
      "Epoch 13/600\n",
      "606/606 [==============================] - 18s 29ms/step - loss: 0.0214 - val_loss: 0.0250\n",
      "Epoch 14/600\n",
      "606/606 [==============================] - 18s 30ms/step - loss: 0.0213 - val_loss: 0.0236\n",
      "Epoch 15/600\n",
      "606/606 [==============================] - 18s 29ms/step - loss: 0.0211 - val_loss: 0.0207\n",
      "Epoch 16/600\n",
      "606/606 [==============================] - 18s 30ms/step - loss: 0.0210 - val_loss: 0.0215\n",
      "Epoch 17/600\n",
      "606/606 [==============================] - 18s 30ms/step - loss: 0.0208 - val_loss: 0.0220\n",
      "Epoch 18/600\n",
      "606/606 [==============================] - 18s 30ms/step - loss: 0.0207 - val_loss: 0.0217\n",
      "Epoch 19/600\n",
      "606/606 [==============================] - 18s 29ms/step - loss: 0.0206 - val_loss: 0.0226\n",
      "Epoch 20/600\n",
      "606/606 [==============================] - 17s 28ms/step - loss: 0.0205 - val_loss: 0.0233\n",
      "Epoch 21/600\n",
      "606/606 [==============================] - 17s 27ms/step - loss: 0.0203 - val_loss: 0.0204\n",
      "Epoch 22/600\n",
      "606/606 [==============================] - 17s 28ms/step - loss: 0.0202 - val_loss: 0.0219\n",
      "Epoch 23/600\n",
      "606/606 [==============================] - 17s 28ms/step - loss: 0.0202 - val_loss: 0.0214\n",
      "Epoch 24/600\n",
      "606/606 [==============================] - 17s 27ms/step - loss: 0.0201 - val_loss: 0.0217\n",
      "Epoch 25/600\n",
      "606/606 [==============================] - 17s 28ms/step - loss: 0.0200 - val_loss: 0.0203\n",
      "Epoch 26/600\n",
      "606/606 [==============================] - 17s 28ms/step - loss: 0.0198 - val_loss: 0.0201\n",
      "Epoch 27/600\n",
      "606/606 [==============================] - 17s 28ms/step - loss: 0.0198 - val_loss: 0.0210\n",
      "Epoch 28/600\n",
      "606/606 [==============================] - 17s 27ms/step - loss: 0.0198 - val_loss: 0.0213\n",
      "Epoch 29/600\n",
      "606/606 [==============================] - 17s 28ms/step - loss: 0.0197 - val_loss: 0.0205\n",
      "Epoch 30/600\n",
      "606/606 [==============================] - 17s 28ms/step - loss: 0.0196 - val_loss: 0.0211\n",
      "Epoch 31/600\n",
      "606/606 [==============================] - 17s 28ms/step - loss: 0.0196 - val_loss: 0.0212\n",
      "Epoch 32/600\n",
      "606/606 [==============================] - 17s 27ms/step - loss: 0.0195 - val_loss: 0.0204\n",
      "Epoch 33/600\n",
      "606/606 [==============================] - 17s 28ms/step - loss: 0.0195 - val_loss: 0.0218\n",
      "Epoch 34/600\n",
      "606/606 [==============================] - 18s 30ms/step - loss: 0.0194 - val_loss: 0.0216\n",
      "Epoch 35/600\n",
      "606/606 [==============================] - 19s 31ms/step - loss: 0.0194 - val_loss: 0.0202\n",
      "Epoch 36/600\n",
      "606/606 [==============================] - 21s 35ms/step - loss: 0.0193 - val_loss: 0.0209\n",
      "Epoch 37/600\n",
      "606/606 [==============================] - 21s 35ms/step - loss: 0.0192 - val_loss: 0.0214\n",
      "Epoch 38/600\n",
      "606/606 [==============================] - 21s 35ms/step - loss: 0.0192 - val_loss: 0.0204\n",
      "Epoch 39/600\n",
      "606/606 [==============================] - 21s 35ms/step - loss: 0.0192 - val_loss: 0.0232\n",
      "Epoch 40/600\n",
      "606/606 [==============================] - 21s 35ms/step - loss: 0.0191 - val_loss: 0.0215\n",
      "Epoch 41/600\n",
      "606/606 [==============================] - 21s 35ms/step - loss: 0.0190 - val_loss: 0.0206\n",
      "Epoch 42/600\n",
      "606/606 [==============================] - 21s 35ms/step - loss: 0.0189 - val_loss: 0.0223\n",
      "Epoch 43/600\n",
      "606/606 [==============================] - 21s 35ms/step - loss: 0.0190 - val_loss: 0.0205\n",
      "Epoch 44/600\n",
      "606/606 [==============================] - 21s 35ms/step - loss: 0.0189 - val_loss: 0.0214\n",
      "Epoch 45/600\n",
      "606/606 [==============================] - 21s 35ms/step - loss: 0.0189 - val_loss: 0.0204\n",
      "Epoch 46/600\n",
      "606/606 [==============================] - 21s 35ms/step - loss: 0.0188 - val_loss: 0.0211\n",
      "Train size:9696\n",
      "Valid.size:2309\n",
      "--- 853.8071811199188 seconds ---\n"
     ]
    }
   ],
   "source": [
    "##################\n",
    "# TRAIN MODEL\n",
    "##################\n",
    "hist = train.fit( model, hyperparams, train_noisy, train_nitid, val_noisy, val_nitid, patience = 20 )"
   ]
  },
  {
   "cell_type": "code",
   "execution_count": 8,
   "id": "c8148067",
   "metadata": {},
   "outputs": [
    {
     "data": {
      "image/png": "[encoded data removed]",
      "text/plain": [
       "<Figure size 432x288 with 1 Axes>"
      ]
     },
     "metadata": {
      "needs_background": "light"
     },
     "output_type": "display_data"
    }
   ],
   "source": [
    "##################\n",
    "# REPORTS\n",
    "##################\n",
    "\n",
    "reports.plotHistory( hist )"
   ]
  },
  {
   "cell_type": "code",
   "execution_count": 9,
   "id": "e495c47b",
   "metadata": {},
   "outputs": [
    {
     "name": "stdout",
     "output_type": "stream",
     "text": [
      "Black image found\n",
      "Black image found\n",
      "Images count =2309\n",
      "Best RMSENZ  =2138 (0.93)\n",
      "Best MAENZ   =2135 (0.92)\n",
      "Best Accuracy=2023 (0.88)\n",
      "RMSE-NZ  Pred=0.0247  Noisy=0.0943\n",
      "MAE-NZ   Pred=0.0211  Noisy=0.0904\n",
      "PSNR     Pred=19.7 dB Noisy=9.3 dB\n",
      "Accuracy Pred=0.38    Noisy=0.09\n",
      "SSM      Pred=0.94    Noisy=0.65\n",
      "HOG MSE  Pred=0.09    Noisy=0.12\n"
     ]
    }
   ],
   "source": [
    "##################\n",
    "# PREDICTIONS\n",
    "##################\n",
    "ACCURACY_THRESHOLD = 0.01\n",
    "predictions_metrics, predictions_headers \\\n",
    "    = reports.calcPredictionMetrics( model, val_noisy, val_nitid, ACCURACY_THRESHOLD, \\\n",
    "                                    save_pred = True, save_path = DEST_TESTS, \\\n",
    "                                    noisy_files = val_noisy_files, nitid_files = val_nitid_files, \\\n",
    "                                    max_nitid= radiance_limits.nitid_max  )"
   ]
  },
  {
   "cell_type": "code",
   "execution_count": 10,
   "id": "2f9e4309",
   "metadata": {},
   "outputs": [
    {
     "name": "stdout",
     "output_type": "stream",
     "text": [
      "INFO:tensorflow:Assets written to: C:\\Projects\\VenusDenoise\\saves\\0100_1000-64-h\\assets\n"
     ]
    }
   ],
   "source": [
    "model.save(os.path.abspath(os.path.join('../../../saves/', SAVED_MODEL)), model)"
   ]
  },
  {
   "cell_type": "code",
   "execution_count": null,
   "id": "eb03b10e",
   "metadata": {},
   "outputs": [],
   "source": []
  }
 ],
 "metadata": {
  "kernelspec": {
   "display_name": "Python 3 (ipykernel)",
   "language": "python",
   "name": "python3"
  },
  "language_info": {
   "codemirror_mode": {
    "name": "ipython",
    "version": 3
   },
   "file_extension": ".py",
   "mimetype": "text/x-python",
   "name": "python",
   "nbconvert_exporter": "python",
   "pygments_lexer": "ipython3",
   "version": "3.9.12"
  }
 },
 "nbformat": 4,
 "nbformat_minor": 5
}
