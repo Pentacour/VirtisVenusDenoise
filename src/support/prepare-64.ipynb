{
 "cells": [
  {
   "cell_type": "code",
   "execution_count": 8,
   "id": "fb446065",
   "metadata": {},
   "outputs": [],
   "source": [
    "##################\n",
    "# IMPORTS\n",
    "##################\n",
    "\n",
    "import tensorflow as tf\n",
    "config = tf.compat.v1.ConfigProto()\n",
    "config.gpu_options.allow_growth = True\n",
    "sess = tf.compat.v1.Session(config=config)\n",
    "\n",
    "import numpy as np\n",
    "import tensorflow \n",
    "from numpy.random import seed\n",
    "seed(1)\n",
    "tensorflow.random.set_seed(2)\n",
    "import os, sys\n",
    "module_path = os.path.abspath(os.path.join('../../support/'))\n",
    "if module_path not in sys.path:\n",
    "    sys.path.append(module_path)\n",
    "    \n",
    "import DatasetUtilsTifF as dsutils\n",
    "#import TrainModel as train\n",
    "#import Reports as reports\n",
    "from skimage import io\n",
    "import numpy as np\n",
    "import matplotlib.pyplot as plt\n",
    "\n",
    "from astropy.stats import sigma_clip\n",
    "from scipy.stats import sigmaclip\n",
    "\n",
    "IMG_PATH = \"D:/UNIR/TFM/VenusDenoise/dataset/cases/64/0001_0100/filtered/divided_64x64/\"\n",
    "IMG_WIDTH = 64\n",
    "IMG_HEIGHT = 64"
   ]
  },
  {
   "cell_type": "code",
   "execution_count": 5,
   "id": "13427b01",
   "metadata": {},
   "outputs": [],
   "source": [
    "noisy_files, nitid_files = dsutils.getImagesNames( IMG_PATH )\n",
    "    \n",
    "files_names = []\n",
    "for file in noisy_files:\n",
    "    files_names.append(os.path.basename(file)[:12] )\n",
    "\n",
    "files_names = np.unique( np.array(files_names))[:1300]"
   ]
  },
  {
   "cell_type": "code",
   "execution_count": 6,
   "id": "e056f7b1",
   "metadata": {},
   "outputs": [],
   "source": [
    "dsutils.createValidationFolderFromNames( IMG_PATH, files_names )"
   ]
  },
  {
   "cell_type": "code",
   "execution_count": 14,
   "id": "3aae476b",
   "metadata": {},
   "outputs": [
    {
     "name": "stdout",
     "output_type": "stream",
     "text": [
      "Check Blacks. Path:D:/UNIR/TFM/VenusDenoise/dataset/cases/64/0001_0100/filtered/divided_64x64/\n",
      "Noisy files:10086\n",
      "Nitid files:10086\n",
      "Black images:0\n",
      "Noisy:0\n",
      "Nitid:0\n"
     ]
    }
   ],
   "source": [
    "#dsutils.checkSizes( IMG_PATH, IMG_WIDTH, IMG_HEIGHT, remove=False )\n",
    "#dsutils.repairSizes( IMG_PATH, IMG_WIDTH, IMG_HEIGHT )\n",
    "#dsutils.repairNegativeRadiance( IMG_PATH )\n",
    "#dsutils.quitBlacks( IMG_PATH )\n",
    "#dsutils.checkPairs( IMG_PATH )\n",
    "#dsutils.filterImagesFolder( IMG_PATH, eq_size_cols = 20, eq_size_rows = 20)\n",
    "#dsutils.checkPairs( IMG_PATH )\n",
    "#dsutils.divideImages(IMG_PATH, IMG_WIDTH, IMG_HEIGHT)\n",
    "#dsutils.quitBadImagesTif( IMG_PATH )\n",
    "#dsutils.quitBlacks( IMG_PATH )\n",
    "#dsutils.checkPairs( IMG_PATH )\n",
    "#dsutils.getMinMaxValues( IMG_PATH, nitid_noisy = 0)\n",
    "#dsutils.getMinMaxValues( IMG_PATH, nitid_noisy = 1)\n",
    "\n",
    "#min_rad_noisy = 0\n",
    "#max_rad_noisy = 0.0174\n",
    "#min_rad_nitid = 0\n",
    "#max_rad_nitid = 0.8130\n",
    "#dsutils.quitBlacksNormalized( IMG_PATH, min_rad_noisy, max_rad_noisy, min_rad_nitid, max_rad_nitid )\n",
    "#dsutils.checkPairs( IMG_PATH )\n",
    "\n",
    "#END\n",
    "\n",
    "#dsutils.convertTifToPNGFolder( IMG_PATH )\n",
    "#TIF_PATH = \"D:/UNIR/TFM/Docs/NoiseCorrec/NoiseCorrec_0001_0100/\"\n",
    "#PNG_PATH = \"D:/UNIR/TFM/Docs/NoiseCorrec/NoiseCorrec_0001_0100/PNG/\"\n",
    "#dsutils.copyTifFromPNGFiles(TIF_PATH, PNG_PATH)\n",
    "\n",
    "\n",
    "\n",
    "#dsutils.quitNegativeRadiance(IMG_PATH)\n",
    "#dsutils.quitWithBlackSection( IMG_PATH, True)\n",
    "\n",
    "\n",
    "\n",
    "\n",
    "#dsutils.filterSigmaImagesFolder( IMG_PATH, sigmas = 7 )\n",
    "#dsutils.checkPairs( IMG_PATH )\n",
    "\n",
    "#dsutils.loadNormalized(IMG_PATH + \"VI0112_00_00_1_nitid_idx017.tif\")\n",
    "#dsutils.checkSizes( IMG_PATH, IMG_WIDTH, IMG_HEIGHT, remove = True)\n",
    "#noisy_files, nitid_files, noisy_images, nitid_images = dsutils.readDataset(IMG_PATH)\n"
   ]
  },
  {
   "cell_type": "code",
   "execution_count": 17,
   "id": "681d7403",
   "metadata": {},
   "outputs": [
    {
     "name": "stdout",
     "output_type": "stream",
     "text": [
      "Number of images:148\n",
      "NITID\n",
      "ALL-Min:0.0   ALL-Max:0.32471177\n",
      "Number of images:148\n",
      "NOISY\n",
      "ALL-Min:0.0   ALL-Max:0.054181803\n"
     ]
    }
   ],
   "source": [
    "#dsutils.filterImagesFolder( IMG_PATH, eq_size_cols = 20, eq_size_rows = 20)\n",
    "#dsutils.checkPairs( IMG_PATH )\n",
    "dsutils.getMinMaxValues( IMG_PATH, nitid_noisy = 0)\n",
    "dsutils.getMinMaxValues( IMG_PATH, nitid_noisy = 1)\n"
   ]
  },
  {
   "cell_type": "code",
   "execution_count": 9,
   "id": "99499335",
   "metadata": {},
   "outputs": [
    {
     "name": "stdout",
     "output_type": "stream",
     "text": [
      "Validation set:150\n"
     ]
    }
   ],
   "source": [
    "dsutils.createValidationFolder( IMG_PATH, 0.2)"
   ]
  },
  {
   "cell_type": "code",
   "execution_count": null,
   "id": "e04f1118",
   "metadata": {},
   "outputs": [],
   "source": [
    "dsutils.filterImagesFolder( IMG_PATH, eq_size_cols = 20, eq_size_rows = 20)"
   ]
  },
  {
   "cell_type": "code",
   "execution_count": null,
   "id": "82dd5afe",
   "metadata": {},
   "outputs": [],
   "source": [
    "img = dsutils.loadNormalized(\"D:/UNIR/TFM/Docs/NoiseCorrec/NoiseCorrec_0010_1000/work/divided_64x64\\VI0044_02_00_13_noisy_idx068.tif\")\n",
    "plt.imshow(img, cmap='gray')"
   ]
  },
  {
   "cell_type": "code",
   "execution_count": null,
   "id": "cc8e6a8b",
   "metadata": {},
   "outputs": [],
   "source": [
    "\n",
    "print(\"MAX=\"+str(image.max()))\n",
    "print(\"MIN=\"+str(image.min()))\n",
    "print(\"mean=\"+str(np.mean(image)))\n",
    "print(\"dev=\"+str(np.std(image)))\n",
    "plt.hist(np.ravel(image), cumulative=False, bins=50)\n",
    "plt.show()"
   ]
  },
  {
   "cell_type": "code",
   "execution_count": null,
   "id": "352450a7",
   "metadata": {},
   "outputs": [],
   "source": [
    "#from sklearn import preprocessing\n",
    "#normalized = preprocessing.normalize(image)\n",
    "normalized = dsutils.normalize(image)\n",
    "print(\"MAX=\"+str(normalized.max()))\n",
    "print(\"MIN=\"+str(normalized.min()))\n",
    "print(\"mean=\"+str(np.mean(normalized)))\n",
    "print(\"dev=\"+str(np.std(normalized)))\n",
    "plt.hist(np.ravel(normalized), cumulative=False, bins=50)\n",
    "plt.show()"
   ]
  },
  {
   "cell_type": "code",
   "execution_count": null,
   "id": "588e2c2c",
   "metadata": {},
   "outputs": [],
   "source": [
    "filtered_data = sigma_clip(image, sigma=2, maxiters=1, masked=True, return_bounds = False)\n",
    "filtered_data = dsutils.normalize(filtered_data)\n",
    "print(\"MAX=\"+str(filtered_data.max()))\n",
    "print(\"MIN=\"+str(filtered_data.min()))\n",
    "print(\"mean=\"+str(np.mean(filtered_data)))\n",
    "print(\"dev=\"+str(np.std(filtered_data)))\n",
    "plt.hist(np.ravel(filtered_data), cumulative=False, bins=50)\n",
    "plt.show()"
   ]
  },
  {
   "cell_type": "code",
   "execution_count": null,
   "id": "cf29268d",
   "metadata": {},
   "outputs": [],
   "source": [
    "#image_norm = dsutils.normalize( filtered_data)\n",
    "reports.display(filtered_data, filtered_data, filtered_data)"
   ]
  },
  {
   "cell_type": "code",
   "execution_count": null,
   "id": "12f72455",
   "metadata": {},
   "outputs": [],
   "source": [
    "#image_norm.reshape((256,256))\n",
    "\n",
    "image = io.imread(IMG_PATH + \"VI0574_04_03noisy_idx157.tif\")\n",
    "filtered_data = sigma_clip(image, sigma=2, maxiters=1, masked=True, return_bounds = False)\n",
    "#print(filtered_data)\n",
    "image_norm = dsutils.normalize( filtered_data)\n",
    "#image_norm = dsutils.normalize(image)\n",
    "reports.display(image_norm, image_norm, image_norm)"
   ]
  },
  {
   "cell_type": "code",
   "execution_count": null,
   "id": "e5e095e9",
   "metadata": {},
   "outputs": [],
   "source": [
    "reports.saveImage( \"D:/tmp3/image.png\", filtered_data )"
   ]
  },
  {
   "cell_type": "code",
   "execution_count": null,
   "id": "8f3cdb93",
   "metadata": {},
   "outputs": [],
   "source": [
    "image_norm.mask"
   ]
  },
  {
   "cell_type": "code",
   "execution_count": null,
   "id": "50140971",
   "metadata": {},
   "outputs": [],
   "source": [
    "plt.hist(np.ravel(image_norm.data), cumulative=False, bins=50)\n",
    "plt.show()"
   ]
  },
  {
   "cell_type": "code",
   "execution_count": null,
   "id": "e3dc9267",
   "metadata": {},
   "outputs": [],
   "source": [
    "minim = None\n",
    "maxim = None\n",
    "for image_file in noisy_files:\n",
    "    image = io.imread(image_file)\n",
    "    print(str(image.min())+\"    \"+str(image.max()))\n",
    "    if minim == None:\n",
    "        minim = image.min()\n",
    "    if maxim == None:\n",
    "        maxim = image.max()\n",
    "        \n",
    "    if image.min() < minim:\n",
    "        minim = image.min()\n",
    "        \n",
    "    if image.max() > maxim:\n",
    "        maxim = image.max()\n",
    "        \n",
    "print(\"Minimum=\" + str(minim))\n",
    "print(\"Maximum=\" + str(maxim))"
   ]
  },
  {
   "cell_type": "code",
   "execution_count": null,
   "id": "84a7001b",
   "metadata": {},
   "outputs": [],
   "source": [
    "image1 = io.imread(IMG_PATH + \"VI0112_00_00_1_nitid_idx017.tif\")\n",
    "image1"
   ]
  },
  {
   "cell_type": "code",
   "execution_count": null,
   "id": "0205032f",
   "metadata": {},
   "outputs": [],
   "source": [
    "image2 = io.imread(\"D:/UNIR/TFM/Docs/NoiseCorrec/NoiseCorrec_0100_1000/PNG/Work/VI0317_05_02noisy_idx123.png\")\n",
    "image2"
   ]
  },
  {
   "cell_type": "code",
   "execution_count": null,
   "id": "b7ffc09e",
   "metadata": {},
   "outputs": [],
   "source": []
  }
 ],
 "metadata": {
  "kernelspec": {
   "display_name": "Python 3 (ipykernel)",
   "language": "python",
   "name": "python3"
  },
  "language_info": {
   "codemirror_mode": {
    "name": "ipython",
    "version": 3
   },
   "file_extension": ".py",
   "mimetype": "text/x-python",
   "name": "python",
   "nbconvert_exporter": "python",
   "pygments_lexer": "ipython3",
   "version": "3.9.12"
  }
 },
 "nbformat": 4,
 "nbformat_minor": 5
}
