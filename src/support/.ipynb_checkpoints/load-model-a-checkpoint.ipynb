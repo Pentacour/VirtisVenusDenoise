{
 "cells": [
  {
   "cell_type": "code",
   "execution_count": null,
   "id": "517443e0",
   "metadata": {},
   "outputs": [],
   "source": [
    "##############################################################################################################\n",
    "# DESCRIPTION: Carga un modelo.\n",
    "#              \n",
    "# RESULTS:     \n",
    "#              \n",
    "##############################################################################################################"
   ]
  },
  {
   "cell_type": "code",
   "execution_count": 19,
   "id": "e744b44a",
   "metadata": {},
   "outputs": [],
   "source": [
    "######################\n",
    "# CONFIG & HYPERPARAMS\n",
    "######################\n",
    "import os, sys\n",
    "\n",
    "IMG_WIDTH = 256\n",
    "IMG_HEIGHT = 256\n",
    "\n",
    "IMG_CASE = str(IMG_WIDTH) +  \"/0100_1000\"\n",
    "SAVED_MODEL = \"unet-0100_1000-256-b-nadam-b\"\n",
    "\n",
    "class RadianceLimits:\n",
    "    pass\n",
    "radiance_limits = RadianceLimits()\n",
    "radiance_limits.noisy_min = 0\n",
    "radiance_limits.noisy_max = 0.0898\n",
    "radiance_limits.nitid_min = 0\n",
    "radiance_limits.nitid_max = 0.3248\n",
    "\n",
    "IMG_PATH = os.path.abspath(os.path.join('../../dataset/cases/' + IMG_CASE + \"/\"))\n",
    "IMG_PATH_VALID = IMG_PATH + \"validation/\"\n",
    "IMG_PATH_TEST = IMG_PATH + \"test/\"\n",
    "IMG_PATH_TRAIN = IMG_PATH\n",
    "\n",
    "DEST_TESTS = os.path.abspath(os.path.join('../../tests/' + SAVED_MODEL + \"/\"))"
   ]
  },
  {
   "cell_type": "code",
   "execution_count": 20,
   "id": "a4976d31",
   "metadata": {},
   "outputs": [
    {
     "data": {
      "text/plain": [
       "'D:\\\\UNIR\\\\TFM\\\\VenusDenoise\\\\dataset\\\\cases\\\\256\\\\0100_1000validation/'"
      ]
     },
     "execution_count": 20,
     "metadata": {},
     "output_type": "execute_result"
    }
   ],
   "source": [
    "IMG_PATH_VALID"
   ]
  },
  {
   "cell_type": "code",
   "execution_count": 2,
   "id": "1634ee60",
   "metadata": {},
   "outputs": [],
   "source": [
    "##################\n",
    "# IMPORTS\n",
    "##################\n",
    "\n",
    "import tensorflow as tf\n",
    "from tensorflow.compat.v1 import InteractiveSession\n",
    "\n",
    "config = tf.compat.v1.ConfigProto()\n",
    "config.gpu_options.allow_growth = True\n",
    "session = InteractiveSession(config=config)\n",
    "\n",
    "import numpy as np\n",
    "import tensorflow \n",
    "from numpy.random import seed\n",
    "seed(1)\n",
    "tensorflow.random.set_seed(2)\n",
    "import os, sys\n",
    "    \n",
    "import DatasetUtilsTifF as dsutils\n",
    "#import TrainModelB as train\n",
    "import ReportsI as reports\n",
    "import keras.models"
   ]
  },
  {
   "cell_type": "code",
   "execution_count": 11,
   "id": "7cf11c8a",
   "metadata": {},
   "outputs": [
    {
     "name": "stdout",
     "output_type": "stream",
     "text": [
      "Read dataset. Path: D:\\UNIR\\TFM\\VenusDenoise\\dataset\\cases\\256\\0100_1000\n",
      "Noisy files:606\n",
      "Nitid files:606\n",
      "Read dataset. Path: D:\\UNIR\\TFM\\VenusDenoise\\dataset\\cases\\256\\0100_1000validation/\n",
      "Noisy files:0\n",
      "Nitid files:0\n"
     ]
    }
   ],
   "source": [
    "##################\n",
    "# PREPARE DATA\n",
    "##################\n",
    "\n",
    "train_noisy_files, train_nitid_files, train_noisy, train_nitid \\\n",
    "    = dsutils.readDataset( IMG_PATH_TRAIN, IMG_WIDTH, IMG_HEIGHT, radiance_limits)\n",
    "\n",
    "val_noisy_files, val_nitid_files, val_noisy, val_nitid \\\n",
    "    = dsutils.readDataset( IMG_PATH_VALID, IMG_WIDTH, IMG_HEIGHT, radiance_limits)\n",
    "\n",
    "train_noisy, train_nitid \\\n",
    "    = dsutils.reshapeDataset( train_noisy, train_nitid, IMG_WIDTH, IMG_HEIGHT )\n",
    "\n",
    "val_noisy, val_nitid \\\n",
    "    = dsutils.reshapeDataset( val_noisy, val_nitid, IMG_WIDTH, IMG_HEIGHT )"
   ]
  },
  {
   "cell_type": "code",
   "execution_count": 9,
   "id": "3b75c540",
   "metadata": {},
   "outputs": [],
   "source": [
    "model = keras.models.load_model(os.path.abspath(os.path.join('../../saves/' + SAVED_MODEL)))"
   ]
  },
  {
   "cell_type": "code",
   "execution_count": 16,
   "id": "43a97493",
   "metadata": {},
   "outputs": [
    {
     "data": {
      "text/plain": [
       "array([], shape=(0, 256, 256, 1), dtype=float32)"
      ]
     },
     "execution_count": 16,
     "metadata": {},
     "output_type": "execute_result"
    }
   ],
   "source": [
    "val_nitid"
   ]
  },
  {
   "cell_type": "code",
   "execution_count": 13,
   "id": "e495c47b",
   "metadata": {},
   "outputs": [
    {
     "ename": "ValueError",
     "evalue": "Expect x to be a non-empty array or dataset.",
     "output_type": "error",
     "traceback": [
      "\u001b[1;31m---------------------------------------------------------------------------\u001b[0m",
      "\u001b[1;31mValueError\u001b[0m                                Traceback (most recent call last)",
      "Input \u001b[1;32mIn [13]\u001b[0m, in \u001b[0;36m<cell line: 6>\u001b[1;34m()\u001b[0m\n\u001b[0;32m      1\u001b[0m \u001b[38;5;66;03m##################\u001b[39;00m\n\u001b[0;32m      2\u001b[0m \u001b[38;5;66;03m# PREDICTIONS\u001b[39;00m\n\u001b[0;32m      3\u001b[0m \u001b[38;5;66;03m##################\u001b[39;00m\n\u001b[0;32m      4\u001b[0m ACCURACY_THRESHOLD \u001b[38;5;241m=\u001b[39m \u001b[38;5;241m0.01\u001b[39m\n\u001b[0;32m      5\u001b[0m predictions_metrics, predictions_headers \\\n\u001b[1;32m----> 6\u001b[0m     \u001b[38;5;241m=\u001b[39m \u001b[43mreports\u001b[49m\u001b[38;5;241;43m.\u001b[39;49m\u001b[43mcalcPredictionMetrics\u001b[49m\u001b[43m(\u001b[49m\u001b[43m \u001b[49m\u001b[43mmodel\u001b[49m\u001b[43m,\u001b[49m\u001b[43m \u001b[49m\u001b[43mval_noisy\u001b[49m\u001b[43m,\u001b[49m\u001b[43m \u001b[49m\u001b[43mval_nitid\u001b[49m\u001b[43m,\u001b[49m\u001b[43m \u001b[49m\u001b[43mACCURACY_THRESHOLD\u001b[49m\u001b[43m,\u001b[49m\u001b[43m \u001b[49m\u001b[43m\\\u001b[49m\n\u001b[0;32m      7\u001b[0m \u001b[43m                                    \u001b[49m\u001b[43msave_pred\u001b[49m\u001b[43m \u001b[49m\u001b[38;5;241;43m=\u001b[39;49m\u001b[43m \u001b[49m\u001b[38;5;28;43;01mTrue\u001b[39;49;00m\u001b[43m,\u001b[49m\u001b[43m \u001b[49m\u001b[43msave_path\u001b[49m\u001b[43m \u001b[49m\u001b[38;5;241;43m=\u001b[39;49m\u001b[43m \u001b[49m\u001b[43mDEST_TESTS\u001b[49m\u001b[43m,\u001b[49m\u001b[43m \u001b[49m\u001b[43m\\\u001b[49m\n\u001b[0;32m      8\u001b[0m \u001b[43m                                    \u001b[49m\u001b[43mnoisy_files\u001b[49m\u001b[43m \u001b[49m\u001b[38;5;241;43m=\u001b[39;49m\u001b[43m \u001b[49m\u001b[43mval_noisy_files\u001b[49m\u001b[43m,\u001b[49m\u001b[43m \u001b[49m\u001b[43mnitid_files\u001b[49m\u001b[43m \u001b[49m\u001b[38;5;241;43m=\u001b[39;49m\u001b[43m \u001b[49m\u001b[43mval_nitid_files\u001b[49m\u001b[43m,\u001b[49m\u001b[43m \u001b[49m\u001b[43m\\\u001b[49m\n\u001b[0;32m      9\u001b[0m \u001b[43m                                    \u001b[49m\u001b[43mmax_nitid\u001b[49m\u001b[38;5;241;43m=\u001b[39;49m\u001b[43m \u001b[49m\u001b[43mradiance_limits\u001b[49m\u001b[38;5;241;43m.\u001b[39;49m\u001b[43mnitid_max\u001b[49m\u001b[43m  \u001b[49m\u001b[43m)\u001b[49m\n",
      "File \u001b[1;32mD:\\UNIR\\TFM\\VenusDenoise\\src\\support\\ReportsI.py:165\u001b[0m, in \u001b[0;36mcalcPredictionMetrics\u001b[1;34m(model, noisy_images, nitid_images, accuracy_threshold, save_pred, save_path, noisy_files, nitid_files, max_nitid)\u001b[0m\n\u001b[0;32m    162\u001b[0m     \u001b[38;5;28;01mfor\u001b[39;00m f \u001b[38;5;129;01min\u001b[39;00m files:\n\u001b[0;32m    163\u001b[0m         os\u001b[38;5;241m.\u001b[39mremove(f)\n\u001b[1;32m--> 165\u001b[0m predictions \u001b[38;5;241m=\u001b[39m \u001b[43mmodel\u001b[49m\u001b[38;5;241;43m.\u001b[39;49m\u001b[43mpredict\u001b[49m\u001b[43m(\u001b[49m\u001b[43mnoisy_images\u001b[49m\u001b[43m)\u001b[49m\n\u001b[0;32m    166\u001b[0m predictions \u001b[38;5;241m=\u001b[39m limitPredictions( predictions )\n\u001b[0;32m    168\u001b[0m images_count \u001b[38;5;241m=\u001b[39m \u001b[38;5;28mlen\u001b[39m(noisy_images)        \n",
      "File \u001b[1;32m~\\anaconda3\\envs\\tensor_flow_sklearn\\lib\\site-packages\\keras\\engine\\training.py:1766\u001b[0m, in \u001b[0;36mModel.predict\u001b[1;34m(self, x, batch_size, verbose, steps, callbacks, max_queue_size, workers, use_multiprocessing)\u001b[0m\n\u001b[0;32m   1764\u001b[0m         callbacks\u001b[38;5;241m.\u001b[39mon_predict_batch_end(end_step, {\u001b[38;5;124m'\u001b[39m\u001b[38;5;124moutputs\u001b[39m\u001b[38;5;124m'\u001b[39m: batch_outputs})\n\u001b[0;32m   1765\u001b[0m   \u001b[38;5;28;01mif\u001b[39;00m batch_outputs \u001b[38;5;129;01mis\u001b[39;00m \u001b[38;5;28;01mNone\u001b[39;00m:\n\u001b[1;32m-> 1766\u001b[0m     \u001b[38;5;28;01mraise\u001b[39;00m \u001b[38;5;167;01mValueError\u001b[39;00m(\u001b[38;5;124m'\u001b[39m\u001b[38;5;124mExpect x to be a non-empty array or dataset.\u001b[39m\u001b[38;5;124m'\u001b[39m)\n\u001b[0;32m   1767\u001b[0m   callbacks\u001b[38;5;241m.\u001b[39mon_predict_end()\n\u001b[0;32m   1768\u001b[0m all_outputs \u001b[38;5;241m=\u001b[39m tf\u001b[38;5;241m.\u001b[39m__internal__\u001b[38;5;241m.\u001b[39mnest\u001b[38;5;241m.\u001b[39mmap_structure_up_to(batch_outputs, concat, outputs)\n",
      "\u001b[1;31mValueError\u001b[0m: Expect x to be a non-empty array or dataset."
     ]
    }
   ],
   "source": [
    "##################\n",
    "# PREDICTIONS\n",
    "##################\n",
    "ACCURACY_THRESHOLD = 0.01\n",
    "predictions_metrics, predictions_headers \\\n",
    "    = reports.calcPredictionMetrics( model, val_noisy, val_nitid, ACCURACY_THRESHOLD, \\\n",
    "                                    save_pred = True, save_path = DEST_TESTS, \\\n",
    "                                    noisy_files = val_noisy_files, nitid_files = val_nitid_files, \\\n",
    "                                    max_nitid= radiance_limits.nitid_max  )"
   ]
  },
  {
   "cell_type": "code",
   "execution_count": null,
   "id": "0a58ff80",
   "metadata": {},
   "outputs": [],
   "source": [
    "import csv\n",
    "\n",
    "with open(DEST_TESTS + '/metrics.csv', 'w', newline='') as file_csv:\n",
    "    write = csv.writer(file_csv)\n",
    "    write.writerow( predictions_headers )\n",
    "    write.writerows(predictions_metrics )"
   ]
  },
  {
   "cell_type": "code",
   "execution_count": null,
   "id": "bb7dbc3c",
   "metadata": {},
   "outputs": [],
   "source": [
    "test_noisy_files, test_nitid_files, test_noisy, test_nitid \\\n",
    "    = dsutils.readDataset( IMG_PATH_TEST, IMG_WIDTH, IMG_HEIGHT, radiance_limits)\n",
    "\n",
    "test_noisy, test_nitid \\\n",
    "    = dsutils.reshapeDataset( test_noisy, test_nitid, IMG_WIDTH, IMG_HEIGHT )\n",
    "\n",
    "test_indexes = np.arange(0,test_noisy.shape[0])\n",
    "\n",
    "reports.predictByIndexes( model, test_noisy, test_nitid, test_noisy_files, test_nitid_files, \\\n",
    "                        test_indexes, ACCURACY_THRESHOLD )"
   ]
  }
 ],
 "metadata": {
  "kernelspec": {
   "display_name": "Python 3 (ipykernel)",
   "language": "python",
   "name": "python3"
  },
  "language_info": {
   "codemirror_mode": {
    "name": "ipython",
    "version": 3
   },
   "file_extension": ".py",
   "mimetype": "text/x-python",
   "name": "python",
   "nbconvert_exporter": "python",
   "pygments_lexer": "ipython3",
   "version": "3.9.12"
  }
 },
 "nbformat": 4,
 "nbformat_minor": 5
}
