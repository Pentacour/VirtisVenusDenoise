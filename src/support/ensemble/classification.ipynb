{
 "cells": [
  {
   "cell_type": "code",
   "execution_count": 1,
   "id": "e37467bc",
   "metadata": {},
   "outputs": [],
   "source": [
    "from tensorflow.keras.optimizers import Adam\n",
    "from tensorflow.keras.layers import Conv2D, MaxPooling2D, Flatten, Dense, Dropout\n",
    "from tensorflow.keras.models import Sequential\n",
    "from tensorflow.keras.callbacks import EarlyStopping, ModelCheckpoint\n",
    "\n",
    "##################\n",
    "# IMPORTS\n",
    "##################\n",
    "\n",
    "import tensorflow as tf\n",
    "from tensorflow.compat.v1 import InteractiveSession\n",
    "\n",
    "config = tf.compat.v1.ConfigProto()\n",
    "config.gpu_options.allow_growth = True\n",
    "session = InteractiveSession(config=config)\n",
    "\n",
    "import numpy as np\n",
    "import tensorflow \n",
    "from numpy.random import seed\n",
    "seed(1)\n",
    "tensorflow.random.set_seed(2)\n",
    "import os, sys\n",
    "module_path = os.path.abspath(os.path.join('../../support/'))\n",
    "if module_path not in sys.path:\n",
    "    sys.path.append(module_path)\n",
    "    \n",
    "import DatasetUtilsTifF as dsutils"
   ]
  },
  {
   "cell_type": "code",
   "execution_count": 3,
   "id": "7ebaf205",
   "metadata": {},
   "outputs": [],
   "source": [
    "img_width=64; img_height=64\n",
    "IMG_PATH = \"D:/UNIR/TFM/VenusDenoise/dataset/cases/64/0100_1000/\"\n",
    "TRAIN_CLASSES_PATH = \"D:/UNIR/TFM/VenusDenoise/out_tests/0100_1000-64-train7.csv\"\n",
    "VALID_CLASSES_PATH = \"D:/UNIR/TFM/VenusDenoise/out_tests/train_classes/0100_1000-64-7.csv\"\n",
    "\n",
    "batch_size=16\n",
    "class RadianceLimits:\n",
    "    pass\n",
    "radiance_limits = RadianceLimits()\n",
    "radiance_limits.noisy_min = 0\n",
    "radiance_limits.noisy_max = 0.0898\n",
    "radiance_limits.nitid_min = 0\n",
    "radiance_limits.nitid_max = 0.3248"
   ]
  },
  {
   "cell_type": "code",
   "execution_count": 25,
   "id": "fb634b88",
   "metadata": {},
   "outputs": [
    {
     "name": "stdout",
     "output_type": "stream",
     "text": [
      "Read dataset. Path: D:/UNIR/TFM/VenusDenoise/dataset/cases/64/0100_1000/\n",
      "Noisy files:8738\n",
      "Nitid files:8738\n"
     ]
    }
   ],
   "source": [
    "train_files, train_classes, train_images = \\\n",
    "        dsutils.readDatasetClassification(IMG_PATH, img_width, img_height, radiance_limits, TRAIN_CLASSES_PATH)\n",
    "\n"
   ]
  },
  {
   "cell_type": "code",
   "execution_count": 26,
   "id": "d1374d02",
   "metadata": {},
   "outputs": [
    {
     "name": "stdout",
     "output_type": "stream",
     "text": [
      "Read dataset. Path: D:/UNIR/TFM/VenusDenoise/dataset/cases/64/0100_1000/validation/\n",
      "Noisy files:2208\n",
      "Nitid files:2208\n"
     ]
    }
   ],
   "source": [
    "val_files, val_classes, val_images = \\\n",
    "    dsutils.readDatasetClassification(IMG_PATH + \"validation/\", img_width, img_height, radiance_limits, VALID_CLASSES_PATH)\n"
   ]
  },
  {
   "cell_type": "code",
   "execution_count": 28,
   "id": "3ef1dc38",
   "metadata": {},
   "outputs": [],
   "source": [
    "train_images = np.reshape(train_images, (len(train_images), img_height, img_width, 1))  \n",
    "val_images= np.reshape(val_images, (len(val_images), img_height, img_width, 1))  \n",
    "\n",
    "#train_classes = train_classes.squeeze()\n",
    "#valid_classes = valid_classes.squeeze()\n",
    "\n",
    "train_classes= np.reshape(train_classes, (len(train_classes), 1))  \n",
    "val_classes= np.reshape(val_classes, (len(val_classes), 1))  "
   ]
  },
  {
   "cell_type": "code",
   "execution_count": 41,
   "id": "7b05b045",
   "metadata": {},
   "outputs": [],
   "source": [
    "train_classes = tf.keras.utils.to_categorical( train_classes, num_classes=None, dtype='float32')\n",
    "val_classes = tf.keras.utils.to_categorical( val_classes, num_classes=None, dtype='float32')"
   ]
  },
  {
   "cell_type": "code",
   "execution_count": 45,
   "id": "15ceb02e",
   "metadata": {},
   "outputs": [
    {
     "data": {
      "text/plain": [
       "(8738, 4)"
      ]
     },
     "execution_count": 45,
     "metadata": {},
     "output_type": "execute_result"
    }
   ],
   "source": [
    "train_classes.shape\n"
   ]
  },
  {
   "cell_type": "code",
   "execution_count": 46,
   "id": "f9e96081",
   "metadata": {},
   "outputs": [
    {
     "name": "stdout",
     "output_type": "stream",
     "text": [
      "Model: \"sequential_8\"\n",
      "_________________________________________________________________\n",
      "Layer (type)                 Output Shape              Param #   \n",
      "=================================================================\n",
      "conv2d_72 (Conv2D)           (None, 62, 62, 16)        160       \n",
      "_________________________________________________________________\n",
      "conv2d_73 (Conv2D)           (None, 60, 60, 32)        4640      \n",
      "_________________________________________________________________\n",
      "conv2d_74 (Conv2D)           (None, 58, 58, 64)        18496     \n",
      "_________________________________________________________________\n",
      "conv2d_75 (Conv2D)           (None, 56, 56, 64)        36928     \n",
      "_________________________________________________________________\n",
      "max_pooling2d_32 (MaxPooling (None, 28, 28, 64)        0         \n",
      "_________________________________________________________________\n",
      "conv2d_76 (Conv2D)           (None, 26, 26, 128)       73856     \n",
      "_________________________________________________________________\n",
      "conv2d_77 (Conv2D)           (None, 24, 24, 128)       147584    \n",
      "_________________________________________________________________\n",
      "max_pooling2d_33 (MaxPooling (None, 12, 12, 128)       0         \n",
      "_________________________________________________________________\n",
      "conv2d_78 (Conv2D)           (None, 10, 10, 256)       295168    \n",
      "_________________________________________________________________\n",
      "conv2d_79 (Conv2D)           (None, 8, 8, 256)         590080    \n",
      "_________________________________________________________________\n",
      "conv2d_80 (Conv2D)           (None, 6, 6, 256)         590080    \n",
      "_________________________________________________________________\n",
      "max_pooling2d_34 (MaxPooling (None, 3, 3, 256)         0         \n",
      "_________________________________________________________________\n",
      "flatten_8 (Flatten)          (None, 2304)              0         \n",
      "_________________________________________________________________\n",
      "dense_24 (Dense)             (None, 512)               1180160   \n",
      "_________________________________________________________________\n",
      "dense_25 (Dense)             (None, 512)               262656    \n",
      "_________________________________________________________________\n",
      "dense_26 (Dense)             (None, 4)                 2052      \n",
      "=================================================================\n",
      "Total params: 3,201,860\n",
      "Trainable params: 3,201,860\n",
      "Non-trainable params: 0\n",
      "_________________________________________________________________\n"
     ]
    }
   ],
   "source": [
    "model = Sequential([\n",
    "    Conv2D(16, (3, 3), activation='relu', input_shape=(64, 64, 1)), \n",
    "    Conv2D(32, (3, 3), activation='relu'), \n",
    "    Conv2D(64, (3, 3), activation='relu'),\n",
    "    Conv2D(64, (3, 3), activation='relu'),\n",
    "    MaxPooling2D(2, 2),\n",
    "    Conv2D(128, (3, 3), activation='relu'),\n",
    "    Conv2D(128, (3, 3), activation='relu'),\n",
    "    MaxPooling2D(2, 2),\n",
    "    Conv2D(256, (3, 3), activation='relu'),\n",
    "    Conv2D(256, (3, 3), activation='relu'),\n",
    "    Conv2D(256, (3, 3), activation='relu'),\n",
    "    MaxPooling2D(2, 2),\n",
    "    Flatten(),\n",
    "    Dense(512, activation='relu'),\n",
    "    Dense(512, activation='relu'),\n",
    "    Dense(4, activation='softmax')\n",
    "])\n",
    "model.summary()"
   ]
  },
  {
   "cell_type": "code",
   "execution_count": 47,
   "id": "90200157",
   "metadata": {},
   "outputs": [],
   "source": [
    "model.compile(optimizer='Adam', \n",
    "              loss='categorical_crossentropy', \n",
    "              metrics =['accuracy'])"
   ]
  },
  {
   "cell_type": "code",
   "execution_count": 48,
   "id": "54978d91",
   "metadata": {},
   "outputs": [
    {
     "name": "stdout",
     "output_type": "stream",
     "text": [
      "Epoch 1/20\n",
      "547/547 [==============================] - 65s 118ms/step - loss: 1.0289 - accuracy: 0.5811 - val_loss: 1.6272 - val_accuracy: 0.3632\n",
      "Epoch 2/20\n",
      "547/547 [==============================] - 69s 125ms/step - loss: 0.9696 - accuracy: 0.6040 - val_loss: 1.6772 - val_accuracy: 0.3650\n",
      "Epoch 3/20\n",
      "547/547 [==============================] - 66s 121ms/step - loss: 0.9629 - accuracy: 0.6119 - val_loss: 1.6617 - val_accuracy: 0.3501\n",
      "Epoch 4/20\n",
      "547/547 [==============================] - 65s 120ms/step - loss: 0.9535 - accuracy: 0.6184 - val_loss: 1.7388 - val_accuracy: 0.3524\n",
      "Epoch 5/20\n",
      "547/547 [==============================] - 67s 122ms/step - loss: 0.9481 - accuracy: 0.6227 - val_loss: 1.7994 - val_accuracy: 0.3460\n",
      "Epoch 6/20\n",
      "547/547 [==============================] - 68s 125ms/step - loss: 0.9405 - accuracy: 0.6305 - val_loss: 1.5644 - val_accuracy: 0.3501\n",
      "Epoch 7/20\n",
      "547/547 [==============================] - 69s 127ms/step - loss: 0.9497 - accuracy: 0.6197 - val_loss: 1.7857 - val_accuracy: 0.3406\n",
      "Epoch 8/20\n",
      "547/547 [==============================] - 73s 134ms/step - loss: 0.9380 - accuracy: 0.6275 - val_loss: 1.5799 - val_accuracy: 0.3501\n",
      "Epoch 9/20\n",
      "547/547 [==============================] - 69s 126ms/step - loss: 0.9442 - accuracy: 0.6257 - val_loss: 1.7621 - val_accuracy: 0.3211\n",
      "Epoch 10/20\n",
      "547/547 [==============================] - 67s 123ms/step - loss: 0.9312 - accuracy: 0.6306 - val_loss: 1.5983 - val_accuracy: 0.3510\n",
      "Epoch 11/20\n",
      "547/547 [==============================] - 65s 118ms/step - loss: 0.9337 - accuracy: 0.6273 - val_loss: 1.6246 - val_accuracy: 0.3419\n",
      "Epoch 12/20\n",
      "547/547 [==============================] - 64s 117ms/step - loss: 0.9226 - accuracy: 0.6336 - val_loss: 1.6660 - val_accuracy: 0.3460\n",
      "Epoch 13/20\n",
      "547/547 [==============================] - 65s 118ms/step - loss: 0.9250 - accuracy: 0.6291 - val_loss: 1.6145 - val_accuracy: 0.3487\n",
      "Epoch 14/20\n",
      "547/547 [==============================] - 64s 117ms/step - loss: 0.9194 - accuracy: 0.6338 - val_loss: 1.5988 - val_accuracy: 0.3270\n",
      "Epoch 15/20\n",
      "547/547 [==============================] - 65s 118ms/step - loss: 0.9191 - accuracy: 0.6321 - val_loss: 1.5437 - val_accuracy: 0.3465\n",
      "Epoch 16/20\n",
      "547/547 [==============================] - 64s 118ms/step - loss: 0.9187 - accuracy: 0.6307 - val_loss: 1.6522 - val_accuracy: 0.3641\n",
      "Epoch 17/20\n",
      "547/547 [==============================] - 64s 116ms/step - loss: 0.9197 - accuracy: 0.6305 - val_loss: 1.7062 - val_accuracy: 0.3474\n",
      "Epoch 18/20\n",
      "547/547 [==============================] - 64s 117ms/step - loss: 0.9146 - accuracy: 0.6368 - val_loss: 1.8557 - val_accuracy: 0.3306\n",
      "Epoch 19/20\n",
      "547/547 [==============================] - 64s 117ms/step - loss: 0.9134 - accuracy: 0.6326 - val_loss: 1.6487 - val_accuracy: 0.3284\n",
      "Epoch 20/20\n",
      "547/547 [==============================] - 65s 119ms/step - loss: 0.9098 - accuracy: 0.6344 - val_loss: 1.6676 - val_accuracy: 0.3487\n"
     ]
    }
   ],
   "source": [
    "hist = model.fit(train_images, train_classes, \n",
    "                        epochs=20,\n",
    "                        batch_size=16, \n",
    "                        verbose=1, \n",
    "                        validation_data=(val_images, val_classes))\n"
   ]
  },
  {
   "cell_type": "code",
   "execution_count": 49,
   "id": "e88b5a3f",
   "metadata": {},
   "outputs": [
    {
     "data": {
      "image/png": "[encoded data removed]",
      "text/plain": [
       "<Figure size 432x288 with 1 Axes>"
      ]
     },
     "metadata": {
      "needs_background": "light"
     },
     "output_type": "display_data"
    }
   ],
   "source": [
    "##################\n",
    "# REPORTS\n",
    "##################\n",
    "import ReportsK as reports\n",
    "reports.plotHistory( hist )"
   ]
  },
  {
   "cell_type": "code",
   "execution_count": null,
   "id": "0231376c",
   "metadata": {},
   "outputs": [],
   "source": []
  }
 ],
 "metadata": {
  "kernelspec": {
   "display_name": "Python 3 (ipykernel)",
   "language": "python",
   "name": "python3"
  },
  "language_info": {
   "codemirror_mode": {
    "name": "ipython",
    "version": 3
   },
   "file_extension": ".py",
   "mimetype": "text/x-python",
   "name": "python",
   "nbconvert_exporter": "python",
   "pygments_lexer": "ipython3",
   "version": "3.9.12"
  }
 },
 "nbformat": 4,
 "nbformat_minor": 5
}
